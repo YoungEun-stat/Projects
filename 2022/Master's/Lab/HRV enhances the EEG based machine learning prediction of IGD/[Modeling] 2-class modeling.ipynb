{
 "cells": [
  {
   "cell_type": "markdown",
   "id": "108cfbf3",
   "metadata": {
    "id": "108cfbf3"
   },
   "source": [
    "# 데이터 불러오기 및 패키지 로딩"
   ]
  },
  {
   "cell_type": "code",
   "execution_count": 1,
   "id": "2db6eef3",
   "metadata": {
    "id": "2db6eef3"
   },
   "outputs": [],
   "source": [
    "import warnings\n",
    "warnings.filterwarnings(\"ignore\")\n",
    "import re\n",
    "import numpy as np\n",
    "import pandas as pd\n",
    "import matplotlib.pyplot as plt\n",
    "from sklearn.preprocessing import StandardScaler\n",
    "from sklearn.linear_model import LogisticRegression\n",
    "from sklearn.ensemble import RandomForestClassifier, GradientBoostingClassifier\n",
    "from xgboost import XGBClassifier\n",
    "\n",
    "import pandas as pd\n",
    "from sklearn.model_selection import KFold\n",
    "from sklearn.metrics import make_scorer, roc_curve, roc_auc_score, accuracy_score, f1_score, recall_score, precision_score\n",
    "from sklearn.model_selection import cross_validate, cross_val_score, GridSearchCV, StratifiedKFold\n",
    "from sklearn.feature_selection import mutual_info_classif\n",
    "from sklearn.preprocessing import StandardScaler\n",
    "from sklearn.metrics import roc_curve,auc,confusion_matrix\n",
    "from scipy import interp"
   ]
  },
  {
   "cell_type": "markdown",
   "id": "75030b06",
   "metadata": {
    "id": "75030b06"
   },
   "source": [
    "### jupyter notebook"
   ]
  },
  {
   "cell_type": "code",
   "execution_count": 2,
   "id": "14919ec3",
   "metadata": {
    "id": "14919ec3"
   },
   "outputs": [],
   "source": [
    "HRV = pd.read_csv('HRV.csv', encoding='CP949')\n",
    "EEG = pd.read_csv('EEG.csv', encoding='CP949')\n",
    "clinical = pd.read_csv('clinical.csv', encoding='CP949')\n",
    "\n",
    "EEGHRV = pd.read_csv('EEGHRV.csv', encoding='CP949')\n",
    "HRVCli = pd.read_csv('HRVCli.csv', encoding='CP949')\n",
    "EEGCli = pd.read_csv('EEGCli.csv', encoding='CP949')\n",
    "\n",
    "EEGHRVCli = pd.read_csv('EEGHRVCli.csv', encoding='CP949')"
   ]
  },
  {
   "cell_type": "code",
   "execution_count": 3,
   "id": "de10ef87",
   "metadata": {
    "colab": {
     "base_uri": "https://localhost:8080/"
    },
    "executionInfo": {
     "elapsed": 381,
     "status": "ok",
     "timestamp": 1648111710104,
     "user": {
      "displayName": "­이선경(자연과학대학 통계학과)",
      "photoUrl": "https://lh3.googleusercontent.com/a/default-user=s64",
      "userId": "13986614415417194005"
     },
     "user_tz": -540
    },
    "id": "de10ef87",
    "outputId": "34be7c26-c9b8-4334-a60e-1be48e84db56"
   },
   "outputs": [
    {
     "name": "stdout",
     "output_type": "stream",
     "text": [
      "True\n",
      "True\n",
      "True\n",
      "True\n",
      "True\n",
      "True\n",
      "True\n"
     ]
    }
   ],
   "source": [
    "# 중복으로 들어간 변수 있는 지 확인\n",
    "print(len(HRV.columns) == len(set(HRV.columns))) \n",
    "print(len(EEG.columns) == len(set(EEG.columns))) \n",
    "print(len(clinical.columns) == len(set(clinical.columns))) \n",
    "print(len(EEGHRV.columns) == len(set(EEGHRV.columns))) \n",
    "print(len(HRVCli.columns) == len(set(HRVCli.columns))) \n",
    "print(len(EEGCli.columns) == len(set(EEGCli.columns))) \n",
    "print(len(EEGHRVCli.columns) == len(set(EEGHRVCli.columns))) "
   ]
  },
  {
   "cell_type": "code",
   "execution_count": 4,
   "id": "HZsJzQSZ9oPT",
   "metadata": {
    "id": "HZsJzQSZ9oPT"
   },
   "outputs": [],
   "source": [
    "HRV.columns = [re.sub(\"\\(|\\)|\\-|\\ \",\".\",HRV.columns.values[i]) for i in range(0,len(HRV.columns.values))]\n",
    "EEG.columns = [re.sub(\"\\(|\\)|\\-|\\ \",\".\",EEG.columns.values[i]) for i in range(0,len(EEG.columns.values))]\n",
    "clinical.columns = [re.sub(\"\\(|\\)|\\-|\\ \",\".\",clinical.columns.values[i]) for i in range(0,len(clinical.columns.values))]\n",
    "EEGHRV.columns = [re.sub(\"\\(|\\)|\\-|\\ \",\".\",EEGHRV.columns.values[i]) for i in range(0,len(EEGHRV.columns.values))]\n",
    "HRVCli.columns = [re.sub(\"\\(|\\)|\\-|\\ \",\".\",HRVCli.columns.values[i]) for i in range(0,len(HRVCli.columns.values))]\n",
    "EEGCli.columns = [re.sub(\"\\(|\\)|\\-|\\ \",\".\",EEGCli.columns.values[i]) for i in range(0,len(EEGCli.columns.values))]\n",
    "EEGHRVCli.columns = [re.sub(\"\\(|\\)|\\-|\\ \",\".\",EEGHRVCli.columns.values[i]) for i in range(0,len(EEGHRVCli.columns.values))]"
   ]
  },
  {
   "cell_type": "code",
   "execution_count": 5,
   "id": "KHIffVadYl8G",
   "metadata": {
    "id": "KHIffVadYl8G"
   },
   "outputs": [],
   "source": [
    "clinical.rename(columns = {'3.education' : 'X3.education', '5.marriage' : 'X5.marriage'}, inplace = True)\n",
    "HRVCli.rename(columns = {'3.education' : 'X3.education', '5.marriage' : 'X5.marriage'}, inplace = True)\n",
    "EEGCli.rename(columns = {'3.education' : 'X3.education', '5.marriage' : 'X5.marriage'}, inplace = True)\n",
    "EEGHRVCli.rename(columns = {'3.education' : 'X3.education', '5.marriage' : 'X5.marriage'}, inplace = True)"
   ]
  },
  {
   "cell_type": "markdown",
   "id": "569551c0",
   "metadata": {
    "id": "569551c0"
   },
   "source": [
    "# 전처리"
   ]
  },
  {
   "cell_type": "markdown",
   "id": "10691149",
   "metadata": {
    "id": "10691149"
   },
   "source": [
    "## fold setting"
   ]
  },
  {
   "cell_type": "code",
   "execution_count": 6,
   "id": "a6e478b3",
   "metadata": {
    "id": "a6e478b3"
   },
   "outputs": [],
   "source": [
    "def sklearn_sffold_split(X,y,K):\n",
    "    kf =  StratifiedKFold(n_splits = K ,shuffle=True, random_state=2022)\n",
    "    result = [(train_index, test_index) for train_index, test_index in kf.split(X,y)]\n",
    "    return result"
   ]
  },
  {
   "cell_type": "markdown",
   "id": "70fc6a61",
   "metadata": {
    "id": "70fc6a61"
   },
   "source": [
    "## pre_processing function "
   ]
  },
  {
   "cell_type": "markdown",
   "id": "7626cfd1",
   "metadata": {
    "id": "7626cfd1"
   },
   "source": [
    "### 2-class"
   ]
  },
  {
   "cell_type": "markdown",
   "id": "8eca742f",
   "metadata": {
    "id": "8eca742f"
   },
   "source": [
    "### input 설명\n",
    "- data = 7개의 data set\n",
    "- cls = 3개의 class type (지정)  -> 여기까지 총 21개의 set\n",
    "- file_name = 그럼 이에 해당하는 selected features 파일 21개 중 하나 택 1 / \"None\" -> 전체변수\n",
    "- num = 어떤 method를 쓸건지는 sheet num으로 (vanilla = 0 , vanilla - permutation = 1 , agg-per = 2)"
   ]
  },
  {
   "cell_type": "code",
   "execution_count": 7,
   "id": "1e1327c1",
   "metadata": {
    "id": "1e1327c1"
   },
   "outputs": [],
   "source": [
    "def feature_selected(feature_lst):\n",
    "    \n",
    "    final_lst = []\n",
    "    rmv_lst = ['age','sex','group']\n",
    "\n",
    "    for i in range(5):\n",
    "        \n",
    "        fold_lst = feature_lst.iloc[:,i].dropna().tolist()\n",
    "        fold_lst = [s for s in fold_lst if s not in rmv_lst] # 중복방지.. 껴있으면 지우기\n",
    "        fold_lst = fold_lst + rmv_lst \n",
    "        final_lst.append(fold_lst)\n",
    "    \n",
    "    return final_lst # 선택된 변수만 가지고 있는.."
   ]
  },
  {
   "cell_type": "code",
   "execution_count": 8,
   "id": "deed0bd1",
   "metadata": {
    "id": "deed0bd1"
   },
   "outputs": [],
   "source": [
    "def pre_process_2(data,cls,file_name,method=0): # 7개의 data , cls3개 총 21개 경우의 수해당 features 파일 , sis method(3개) , cls 3개 / \n",
    "    \n",
    "    if (file_name == \"None\") :\n",
    "        \n",
    "        feature_lst = []\n",
    "        for i in range(5):\n",
    "            feature_lst.append(data.columns)\n",
    "\n",
    "    else :\n",
    "        feature_lst = pd.read_excel(file_name,sheet_name = method)\n",
    "        feature_lst = feature_selected(feature_lst)\n",
    "\n",
    "    X = data.drop(['group'],axis=1)\n",
    "    y = data.group\n",
    "\n",
    "    folds=sklearn_sffold_split(X,y ,5)\n",
    "\n",
    "    train, test = [],[]\n",
    "\n",
    "    for i in range(0,5): \n",
    "        train.append(data.iloc[folds[i][0]].reset_index(drop=True))\n",
    "        test.append(data.iloc[folds[i][1]].reset_index(drop=True))\n",
    "        train[i] = train[i][feature_lst[i]]\n",
    "\n",
    "    final_train = train ; final_test = test\n",
    "\n",
    "    # 1. HC vs. AUD\n",
    "    if (cls==1):\n",
    "        for i in range(5):\n",
    "            final_train[i] = final_train[i].drop(final_train[i][(final_train[i]['group']=='IGD')].index, axis=0)\n",
    "            final_test[i] = final_test[i].drop(final_test[i][(final_test[i]['group']=='IGD')].index, axis=0)\n",
    "            final_train[i]['group'] = final_train[i].group.replace({'HC':0, 'AUD':1}).astype('category')\n",
    "            final_test[i]['group'] = final_test[i].group.replace({'HC':0, 'AUD':1}).astype('category')\n",
    "\n",
    "    # 2. HC vs. IGD\n",
    "    if (cls==2):\n",
    "        for i in range(5):\n",
    "            final_train[i] = final_train[i].drop(final_train[i][(final_train[i]['group']=='AUD')].index, axis=0)\n",
    "            final_test[i] = final_test[i].drop(final_test[i][(final_test[i]['group']=='AUD')].index, axis=0)\n",
    "            final_train[i]['group'] = final_train[i].group.replace({'HC':0, 'IGD':1}).astype('category')\n",
    "            final_test[i]['group'] = final_test[i].group.replace({'HC':0, 'IGD':1}).astype('category')\n",
    "\n",
    "    # 3. HC vs. DIS\n",
    "    if (cls==3):\n",
    "        for i in range(5):\n",
    "            final_train[i]['group'] = final_train[i].group.replace({'HC':0, 'AUD':1, 'IGD':1}).astype('category')\n",
    "            final_test[i]['group'] = final_test[i].group.replace({'HC':0, 'AUD':1, 'IGD':1}).astype('category')\n",
    "        \n",
    "        \n",
    "    return final_train , final_test"
   ]
  },
  {
   "cell_type": "code",
   "execution_count": 9,
   "id": "4835fde9",
   "metadata": {
    "id": "4835fde9"
   },
   "outputs": [],
   "source": [
    "# Scaling\n",
    "def scaling(train,test):\n",
    "    \n",
    "    trains , tests = [],[]\n",
    "    rmv_lst = ['group','sex','X5.marriage']\n",
    "     \n",
    "    for i in range(5):\n",
    "        \n",
    "        apend_lst = [s for s in rmv_lst if s in train[i].columns ]\n",
    "        scale_lst = [s for s in train[i].columns if s not in rmv_lst]   \n",
    "        \n",
    "        scaler = StandardScaler()\n",
    "        trains.append(pd.DataFrame(scaler.fit_transform(train[i][scale_lst]),\n",
    "                                   index=train[i].index, columns=train[i][scale_lst].columns))\n",
    "        trains[i][apend_lst] = train[i][apend_lst]\n",
    "\n",
    "        \n",
    "        tests.append(pd.DataFrame(scaler.transform(test[i][scale_lst]), \n",
    "                                   index=test[i].index, columns=test[i][scale_lst].columns))\n",
    "        tests[i][apend_lst] = test[i][apend_lst]\n",
    "\n",
    "    return trains, tests"
   ]
  },
  {
   "cell_type": "markdown",
   "id": "f85207f1",
   "metadata": {
    "id": "f85207f1"
   },
   "source": [
    "## tunning function\n",
    "* input : train, test, selected_vars"
   ]
  },
  {
   "cell_type": "code",
   "execution_count": 10,
   "id": "b6753d0f",
   "metadata": {
    "id": "b6753d0f"
   },
   "outputs": [],
   "source": [
    "# 2-class"
   ]
  },
  {
   "cell_type": "code",
   "execution_count": 10,
   "id": "5c5f7050",
   "metadata": {
    "id": "5c5f7050"
   },
   "outputs": [],
   "source": [
    "def Mytunning2(trains,tests):\n",
    "    ela_auc, rf_auc, gbm_auc, xgb_auc =[],[],[],[]\n",
    "    ela_matrix, rf_matrix, gbm_matrix, xgb_matrix = np.array([[0,0],[0,0]]),np.array([[0,0],[0,0]]),np.array([[0,0],[0,0]]),np.array([[0,0],[0,0]])\n",
    "\n",
    "    fprs, tprs = [0,0,0,0,0],[0,0,0,0,0]\n",
    "    mean_fpr = np.linspace(0,1,100)\n",
    "    tprs_ela0, tprs_rf0, tprs_gbm0, tprs_xgb0  = [],[],[],[]\n",
    "    \n",
    "    for i in range(0,5):\n",
    "        print(f'####################### fold {i} ########################')\n",
    "        # train 지정 \n",
    "        train = trains[i]\n",
    "      \n",
    "        X = train.drop('group',1)\n",
    "        y = train.group\n",
    "        \n",
    "\n",
    "        ####### 모델링 #######\n",
    "        # ela\n",
    "        parameters = {'C':[0.001, 0.01, 0.1, 1],\n",
    "                     'l1_ratio': [0, 0.1, 0.3, 0.5, 0.7, 0.9, 1]}\n",
    "\n",
    "        ela = LogisticRegression(penalty='elasticnet', solver='saga', random_state=2022)  \n",
    "        grid = GridSearchCV(ela, parameters, cv=5,scoring = 'roc_auc')\n",
    "        grid.fit(X, y)\n",
    "        ela = grid.best_estimator_\n",
    "        ela.fit(X, y)\n",
    "        print(ela)\n",
    "\n",
    "\n",
    "        # rf\n",
    "        parameters = {'max_depth': [5, 10, 15],\n",
    "                        'max_features': ['auto', 'sqrt'],\n",
    "                        'min_samples_leaf': [1, 2, 4],\n",
    "                        'min_samples_split': [2, 5, 10],\n",
    "                        'n_estimators': [100, 200, 500]}\n",
    "\n",
    "        rnd = RandomForestClassifier(random_state=2022)\n",
    "        grid = GridSearchCV(rnd, parameters, cv=5,scoring = 'roc_auc')\n",
    "        grid.fit(X, y)\n",
    "        rf = grid.best_estimator_\n",
    "        rf.fit(X, y)\n",
    "        print(rf)\n",
    "\n",
    "        \n",
    "        # gbm\n",
    "        parameters = {'max_depth': [5, 8 ,10],\n",
    "                        'min_samples_leaf': [ 2, 4],\n",
    "                        'min_samples_split': [2, 5],\n",
    "                        'n_estimators': [100, 200, 500],\n",
    "                      'learning_rate': [0.01, 0.05, 0.1]}\n",
    "\n",
    "        gbm = GradientBoostingClassifier(random_state=2022)\n",
    "        grid = GridSearchCV(gbm, parameters, cv=5,scoring = 'roc_auc')\n",
    "        grid.fit(X, y)\n",
    "        gbm = grid.best_estimator_\n",
    "        gbm.fit(X, y)\n",
    "        print(gbm)\n",
    "\n",
    "\n",
    "        # xgb\n",
    "        parameters = {'min_child_weight': [1, 3, 5],\n",
    "                      'gamma': [0.5, 1, 1.5],\n",
    "                      'max_depth': [5, 8 ,10],\n",
    "                      'subsample': [0.6, 0.8],\n",
    "                      'colsample_bytree': [0.6, 0.8],\n",
    "                      'learning_rate' : [0.01, 0.1],\n",
    "                      'n_estimators' : [100, 200, 500]}\n",
    "        xgb = XGBClassifier(nthread=1, random_state=2022)\n",
    "        grid = GridSearchCV(xgb, parameters,cv=5, scoring = 'roc_auc')\n",
    "        grid.fit(X, y)\n",
    "        xgb = grid.best_estimator_\n",
    "        xgb.fit(X, y)\n",
    "        print(xgb)\n",
    "\n",
    "\n",
    "        # 각각 fold 내에서 모델마다 auc 저장 (test_score)\n",
    "    \n",
    "        test = tests[i]\n",
    "        \n",
    "        X_test = test.drop('group',1)\n",
    "        y_test = test.group\n",
    "        \n",
    "        ela_auc.append(roc_auc_score(y_test, ela.predict_proba(X_test)[:,1]))\n",
    "        rf_auc.append(roc_auc_score(y_test, rf.predict_proba(X_test)[:,1]))\n",
    "        gbm_auc.append(roc_auc_score(y_test, gbm.predict_proba(X_test)[:,1]))\n",
    "        xgb_auc.append(roc_auc_score(y_test, xgb.predict_proba(X_test)[:,1]))\n",
    "\n",
    "        ela_matrix=np.add(ela_matrix, confusion_matrix(y_test, ela.predict(X_test)))\n",
    "        rf_matrix=np.add(rf_matrix, confusion_matrix(y_test, rf.predict(X_test)))\n",
    "        gbm_matrix=np.add(gbm_matrix, confusion_matrix(y_test, gbm.predict(X_test)))\n",
    "        xgb_matrix=np.add(xgb_matrix, confusion_matrix(y_test, xgb.predict(X_test)))\n",
    "\n",
    "        \n",
    "        # 각각 fold 내에서 모델마다 roc 저장 \n",
    "        fprs[i], tprs[i], _ = roc_curve(y_test, ela.predict_proba(X_test)[:,1])\n",
    "        tprs_ela0.append(interp(mean_fpr, np.stack(fprs[i]).astype('float'), np.stack(tprs[i]).astype('float')))\n",
    "        \n",
    "        fprs[i], tprs[i], _ = roc_curve(y_test, rf.predict_proba(X_test)[:,1])\n",
    "        tprs_rf0.append(interp(mean_fpr, np.stack(fprs[i]).astype('float'), np.stack(tprs[i]).astype('float')))\n",
    "        \n",
    "        fprs[i], tprs[i], _ = roc_curve(y_test, gbm.predict_proba(X_test)[:,1])\n",
    "        tprs_gbm0.append(interp(mean_fpr, np.stack(fprs[i]).astype('float'), np.stack(tprs[i]).astype('float')))\n",
    "        \n",
    "        fprs[i], tprs[i], _ = roc_curve(y_test, xgb.predict_proba(X_test)[:,1])\n",
    "        tprs_xgb0.append(interp(mean_fpr, np.stack(fprs[i]).astype('float'), np.stack(tprs[i]).astype('float')))\n",
    "\n",
    "    print('ela_mean_auc:',np.mean(ela_auc))\n",
    "    print('rf_mean_auc:',np.mean(rf_auc))\n",
    "    print('gbm_mean_auc:',np.mean(gbm_auc))\n",
    "    print('xgb_mean_auc:',np.mean(xgb_auc))\n",
    "    \n",
    "    # confusion matrix로 성능지표 계산\n",
    "    matrix_list = [ela_matrix, rf_matrix, gbm_matrix, xgb_matrix]\n",
    "    for matrix in matrix_list:\n",
    "        acc = (matrix[0][0] + matrix[1][1])/sum(sum(matrix))\n",
    "        rec = matrix[1][1] / (matrix[1][0]+matrix[1][1])\n",
    "        pre = matrix[1][1] / (matrix[0][1]+matrix[1][1])\n",
    "        f1 = 2*(rec*pre)/(rec+pre)\n",
    "        print(matrix)\n",
    "        print('accuracy:',np.mean(acc),'f1-score:',np.mean(f1),'recall:',np.mean(rec),'precision:',np.mean(pre))\n",
    "    \n",
    "    # 평균 roc 저장 \n",
    "    mean_tpr_ela = np.mean(tprs_ela0, axis=0)\n",
    "    mean_tpr_rf = np.mean(tprs_rf0, axis=0)\n",
    "    mean_tpr_gbm = np.mean(tprs_gbm0, axis=0)\n",
    "    mean_tpr_xgb = np.mean(tprs_xgb0, axis=0)\n",
    "\n",
    "    return mean_tpr_ela, mean_tpr_rf, mean_tpr_gbm, mean_tpr_xgb"
   ]
  },
  {
   "cell_type": "markdown",
   "id": "718eef30",
   "metadata": {
    "id": "718eef30"
   },
   "source": [
    "# Experiment - 변수 모두 이용"
   ]
  },
  {
   "cell_type": "markdown",
   "id": "14d10704",
   "metadata": {
    "id": "14d10704"
   },
   "source": [
    "# <2-class>"
   ]
  },
  {
   "cell_type": "markdown",
   "id": "QJNE9DKPBqzt",
   "metadata": {
    "id": "QJNE9DKPBqzt"
   },
   "source": [
    "## EEGHRV"
   ]
  },
  {
   "cell_type": "markdown",
   "id": "xGzMJ22SBqz1",
   "metadata": {
    "id": "xGzMJ22SBqz1"
   },
   "source": [
    "### 3. HC vs. DIS "
   ]
  },
  {
   "cell_type": "code",
   "execution_count": 12,
   "id": "ug8JcIRfBqz1",
   "metadata": {
    "id": "ug8JcIRfBqz1",
    "outputId": "54073dce-31a2-4a32-aec7-34f8e46ec104",
    "scrolled": true
   },
   "outputs": [
    {
     "name": "stdout",
     "output_type": "stream",
     "text": [
      "####################### fold 0 ########################\n",
      "LogisticRegression(C=0.1, l1_ratio=0.3, penalty='elasticnet', random_state=2022,\n",
      "                   solver='saga')\n",
      "RandomForestClassifier(max_depth=5, min_samples_leaf=4, random_state=2022)\n",
      "GradientBoostingClassifier(max_depth=8, min_samples_leaf=2, random_state=2022)\n",
      "XGBClassifier(base_score=0.5, booster='gbtree', colsample_bylevel=1,\n",
      "              colsample_bynode=1, colsample_bytree=0.6, gamma=1.5, gpu_id=-1,\n",
      "              importance_type='gain', interaction_constraints='',\n",
      "              learning_rate=0.1, max_delta_step=0, max_depth=5,\n",
      "              min_child_weight=3, missing=nan, monotone_constraints='()',\n",
      "              n_estimators=100, n_jobs=1, nthread=1, num_parallel_tree=1,\n",
      "              random_state=2022, reg_alpha=0, reg_lambda=1, scale_pos_weight=1,\n",
      "              subsample=0.8, tree_method='exact', validate_parameters=1,\n",
      "              verbosity=None)\n",
      "####################### fold 1 ########################\n",
      "LogisticRegression(C=0.1, l1_ratio=0, penalty='elasticnet', random_state=2022,\n",
      "                   solver='saga')\n",
      "RandomForestClassifier(max_depth=5, min_samples_leaf=2, random_state=2022)\n",
      "GradientBoostingClassifier(learning_rate=0.05, max_depth=5, min_samples_leaf=2,\n",
      "                           min_samples_split=5, n_estimators=500,\n",
      "                           random_state=2022)\n",
      "XGBClassifier(base_score=0.5, booster='gbtree', colsample_bylevel=1,\n",
      "              colsample_bynode=1, colsample_bytree=0.8, gamma=1, gpu_id=-1,\n",
      "              importance_type='gain', interaction_constraints='',\n",
      "              learning_rate=0.1, max_delta_step=0, max_depth=8,\n",
      "              min_child_weight=1, missing=nan, monotone_constraints='()',\n",
      "              n_estimators=100, n_jobs=1, nthread=1, num_parallel_tree=1,\n",
      "              random_state=2022, reg_alpha=0, reg_lambda=1, scale_pos_weight=1,\n",
      "              subsample=0.6, tree_method='exact', validate_parameters=1,\n",
      "              verbosity=None)\n",
      "####################### fold 2 ########################\n",
      "LogisticRegression(C=0.1, l1_ratio=0, penalty='elasticnet', random_state=2022,\n",
      "                   solver='saga')\n",
      "RandomForestClassifier(max_depth=10, min_samples_leaf=4, random_state=2022)\n",
      "GradientBoostingClassifier(learning_rate=0.01, max_depth=5, min_samples_leaf=4,\n",
      "                           random_state=2022)\n",
      "XGBClassifier(base_score=0.5, booster='gbtree', colsample_bylevel=1,\n",
      "              colsample_bynode=1, colsample_bytree=0.8, gamma=1, gpu_id=-1,\n",
      "              importance_type='gain', interaction_constraints='',\n",
      "              learning_rate=0.1, max_delta_step=0, max_depth=5,\n",
      "              min_child_weight=5, missing=nan, monotone_constraints='()',\n",
      "              n_estimators=200, n_jobs=1, nthread=1, num_parallel_tree=1,\n",
      "              random_state=2022, reg_alpha=0, reg_lambda=1, scale_pos_weight=1,\n",
      "              subsample=0.8, tree_method='exact', validate_parameters=1,\n",
      "              verbosity=None)\n",
      "####################### fold 3 ########################\n",
      "LogisticRegression(C=0.001, l1_ratio=0, penalty='elasticnet', random_state=2022,\n",
      "                   solver='saga')\n",
      "RandomForestClassifier(max_depth=5, min_samples_leaf=2, min_samples_split=5,\n",
      "                       n_estimators=200, random_state=2022)\n",
      "GradientBoostingClassifier(learning_rate=0.05, max_depth=10, min_samples_leaf=4,\n",
      "                           random_state=2022)\n",
      "XGBClassifier(base_score=0.5, booster='gbtree', colsample_bylevel=1,\n",
      "              colsample_bynode=1, colsample_bytree=0.8, gamma=1.5, gpu_id=-1,\n",
      "              importance_type='gain', interaction_constraints='',\n",
      "              learning_rate=0.01, max_delta_step=0, max_depth=5,\n",
      "              min_child_weight=1, missing=nan, monotone_constraints='()',\n",
      "              n_estimators=500, n_jobs=1, nthread=1, num_parallel_tree=1,\n",
      "              random_state=2022, reg_alpha=0, reg_lambda=1, scale_pos_weight=1,\n",
      "              subsample=0.8, tree_method='exact', validate_parameters=1,\n",
      "              verbosity=None)\n",
      "####################### fold 4 ########################\n",
      "LogisticRegression(C=0.1, l1_ratio=0, penalty='elasticnet', random_state=2022,\n",
      "                   solver='saga')\n",
      "RandomForestClassifier(max_depth=5, min_samples_leaf=4, min_samples_split=10,\n",
      "                       n_estimators=500, random_state=2022)\n",
      "GradientBoostingClassifier(max_depth=8, min_samples_leaf=4, n_estimators=500,\n",
      "                           random_state=2022)\n",
      "XGBClassifier(base_score=0.5, booster='gbtree', colsample_bylevel=1,\n",
      "              colsample_bynode=1, colsample_bytree=0.6, gamma=1, gpu_id=-1,\n",
      "              importance_type='gain', interaction_constraints='',\n",
      "              learning_rate=0.01, max_delta_step=0, max_depth=8,\n",
      "              min_child_weight=1, missing=nan, monotone_constraints='()',\n",
      "              n_estimators=200, n_jobs=1, nthread=1, num_parallel_tree=1,\n",
      "              random_state=2022, reg_alpha=0, reg_lambda=1, scale_pos_weight=1,\n",
      "              subsample=0.6, tree_method='exact', validate_parameters=1,\n",
      "              verbosity=None)\n",
      "ela_mean_auc: 0.7174362041467305\n",
      "rf_mean_auc: 0.7807814992025518\n",
      "gbm_mean_auc: 0.7347767145135566\n",
      "xgb_mean_auc: 0.7900318979266348\n",
      "[[24 35]\n",
      " [12 85]]\n",
      "accuracy: 0.6987179487179487 f1-score: 0.7834101382488479 recall: 0.8762886597938144 precision: 0.7083333333333334\n",
      "[[33 26]\n",
      " [19 78]]\n",
      "accuracy: 0.7115384615384616 f1-score: 0.7761194029850748 recall: 0.8041237113402062 precision: 0.75\n",
      "[[33 26]\n",
      " [24 73]]\n",
      "accuracy: 0.6794871794871795 f1-score: 0.7448979591836734 recall: 0.7525773195876289 precision: 0.7373737373737373\n",
      "[[36 23]\n",
      " [19 78]]\n",
      "accuracy: 0.7307692307692307 f1-score: 0.787878787878788 recall: 0.8041237113402062 precision: 0.7722772277227723\n"
     ]
    }
   ],
   "source": [
    "train,test = pre_process_2(EEGHRV, cls = 3 ,file_name = 'EEGHRV_class3_selected_vars.xlsx', method = 0)\n",
    "train, test = scaling(train,test)\n",
    "cl3_vanilla40_eeghrv = Mytunning2(train,test)"
   ]
  },
  {
   "cell_type": "code",
   "execution_count": 13,
   "id": "considered-august",
   "metadata": {
    "scrolled": true
   },
   "outputs": [
    {
     "name": "stdout",
     "output_type": "stream",
     "text": [
      "####################### fold 0 ########################\n",
      "LogisticRegression(C=0.01, l1_ratio=0, penalty='elasticnet', random_state=2022,\n",
      "                   solver='saga')\n",
      "RandomForestClassifier(max_depth=5, min_samples_leaf=4, n_estimators=200,\n",
      "                       random_state=2022)\n",
      "GradientBoostingClassifier(learning_rate=0.05, max_depth=8, min_samples_leaf=4,\n",
      "                           n_estimators=200, random_state=2022)\n",
      "XGBClassifier(base_score=0.5, booster='gbtree', colsample_bylevel=1,\n",
      "              colsample_bynode=1, colsample_bytree=0.6, gamma=1.5, gpu_id=-1,\n",
      "              importance_type='gain', interaction_constraints='',\n",
      "              learning_rate=0.1, max_delta_step=0, max_depth=5,\n",
      "              min_child_weight=3, missing=nan, monotone_constraints='()',\n",
      "              n_estimators=100, n_jobs=1, nthread=1, num_parallel_tree=1,\n",
      "              random_state=2022, reg_alpha=0, reg_lambda=1, scale_pos_weight=1,\n",
      "              subsample=0.8, tree_method='exact', validate_parameters=1,\n",
      "              verbosity=None)\n",
      "####################### fold 1 ########################\n",
      "LogisticRegression(C=0.001, l1_ratio=0, penalty='elasticnet', random_state=2022,\n",
      "                   solver='saga')\n",
      "RandomForestClassifier(max_depth=5, min_samples_leaf=4, min_samples_split=10,\n",
      "                       random_state=2022)\n",
      "GradientBoostingClassifier(max_depth=5, min_samples_leaf=4, n_estimators=200,\n",
      "                           random_state=2022)\n",
      "XGBClassifier(base_score=0.5, booster='gbtree', colsample_bylevel=1,\n",
      "              colsample_bynode=1, colsample_bytree=0.8, gamma=0.5, gpu_id=-1,\n",
      "              importance_type='gain', interaction_constraints='',\n",
      "              learning_rate=0.1, max_delta_step=0, max_depth=5,\n",
      "              min_child_weight=3, missing=nan, monotone_constraints='()',\n",
      "              n_estimators=200, n_jobs=1, nthread=1, num_parallel_tree=1,\n",
      "              random_state=2022, reg_alpha=0, reg_lambda=1, scale_pos_weight=1,\n",
      "              subsample=0.8, tree_method='exact', validate_parameters=1,\n",
      "              verbosity=None)\n",
      "####################### fold 2 ########################\n",
      "LogisticRegression(C=1, l1_ratio=1, penalty='elasticnet', random_state=2022,\n",
      "                   solver='saga')\n",
      "RandomForestClassifier(max_depth=10, min_samples_leaf=4, min_samples_split=10,\n",
      "                       random_state=2022)\n",
      "GradientBoostingClassifier(max_depth=10, min_samples_leaf=2,\n",
      "                           min_samples_split=5, n_estimators=500,\n",
      "                           random_state=2022)\n",
      "XGBClassifier(base_score=0.5, booster='gbtree', colsample_bylevel=1,\n",
      "              colsample_bynode=1, colsample_bytree=0.8, gamma=1, gpu_id=-1,\n",
      "              importance_type='gain', interaction_constraints='',\n",
      "              learning_rate=0.1, max_delta_step=0, max_depth=8,\n",
      "              min_child_weight=1, missing=nan, monotone_constraints='()',\n",
      "              n_estimators=200, n_jobs=1, nthread=1, num_parallel_tree=1,\n",
      "              random_state=2022, reg_alpha=0, reg_lambda=1, scale_pos_weight=1,\n",
      "              subsample=0.8, tree_method='exact', validate_parameters=1,\n",
      "              verbosity=None)\n",
      "####################### fold 3 ########################\n",
      "LogisticRegression(C=0.01, l1_ratio=0, penalty='elasticnet', random_state=2022,\n",
      "                   solver='saga')\n",
      "RandomForestClassifier(max_depth=5, min_samples_leaf=2, n_estimators=200,\n",
      "                       random_state=2022)\n",
      "GradientBoostingClassifier(max_depth=5, min_samples_leaf=4, random_state=2022)\n",
      "XGBClassifier(base_score=0.5, booster='gbtree', colsample_bylevel=1,\n",
      "              colsample_bynode=1, colsample_bytree=0.6, gamma=1, gpu_id=-1,\n",
      "              importance_type='gain', interaction_constraints='',\n",
      "              learning_rate=0.01, max_delta_step=0, max_depth=5,\n",
      "              min_child_weight=1, missing=nan, monotone_constraints='()',\n",
      "              n_estimators=500, n_jobs=1, nthread=1, num_parallel_tree=1,\n",
      "              random_state=2022, reg_alpha=0, reg_lambda=1, scale_pos_weight=1,\n",
      "              subsample=0.8, tree_method='exact', validate_parameters=1,\n",
      "              verbosity=None)\n",
      "####################### fold 4 ########################\n",
      "LogisticRegression(C=0.01, l1_ratio=0, penalty='elasticnet', random_state=2022,\n",
      "                   solver='saga')\n",
      "RandomForestClassifier(max_depth=10, min_samples_leaf=2, min_samples_split=5,\n",
      "                       random_state=2022)\n",
      "GradientBoostingClassifier(learning_rate=0.05, max_depth=10, min_samples_leaf=4,\n",
      "                           n_estimators=200, random_state=2022)\n",
      "XGBClassifier(base_score=0.5, booster='gbtree', colsample_bylevel=1,\n",
      "              colsample_bynode=1, colsample_bytree=0.6, gamma=0.5, gpu_id=-1,\n",
      "              importance_type='gain', interaction_constraints='',\n",
      "              learning_rate=0.1, max_delta_step=0, max_depth=8,\n",
      "              min_child_weight=1, missing=nan, monotone_constraints='()',\n",
      "              n_estimators=100, n_jobs=1, nthread=1, num_parallel_tree=1,\n",
      "              random_state=2022, reg_alpha=0, reg_lambda=1, scale_pos_weight=1,\n",
      "              subsample=0.8, tree_method='exact', validate_parameters=1,\n",
      "              verbosity=None)\n",
      "ela_mean_auc: 0.7267583732057415\n",
      "rf_mean_auc: 0.7560287081339713\n",
      "gbm_mean_auc: 0.7525159489633174\n",
      "xgb_mean_auc: 0.7608492822966506\n",
      "[[12 47]\n",
      " [11 86]]\n",
      "accuracy: 0.6282051282051282 f1-score: 0.7478260869565218 recall: 0.8865979381443299 precision: 0.6466165413533834\n",
      "[[28 31]\n",
      " [14 83]]\n",
      "accuracy: 0.7115384615384616 f1-score: 0.7867298578199052 recall: 0.8556701030927835 precision: 0.7280701754385965\n",
      "[[32 27]\n",
      " [23 74]]\n",
      "accuracy: 0.6794871794871795 f1-score: 0.7474747474747475 recall: 0.7628865979381443 precision: 0.7326732673267327\n",
      "[[32 27]\n",
      " [22 75]]\n",
      "accuracy: 0.6858974358974359 f1-score: 0.7537688442211057 recall: 0.7731958762886598 precision: 0.7352941176470589\n"
     ]
    }
   ],
   "source": [
    "train,test = pre_process_2(EEGHRV, cls = 3 ,file_name = 'EEGHRV_class3_selected_vars_new.xlsx', method = 0)\n",
    "train, test = scaling(train,test)\n",
    "cl3_vanilla40_eeghrv_new = Mytunning2(train,test)"
   ]
  },
  {
   "cell_type": "code",
   "execution_count": 14,
   "id": "moving-sheffield",
   "metadata": {
    "scrolled": true
   },
   "outputs": [
    {
     "name": "stdout",
     "output_type": "stream",
     "text": [
      "####################### fold 0 ########################\n",
      "LogisticRegression(C=0.001, l1_ratio=0, penalty='elasticnet', random_state=2022,\n",
      "                   solver='saga')\n",
      "RandomForestClassifier(max_depth=5, min_samples_leaf=4, min_samples_split=10,\n",
      "                       n_estimators=200, random_state=2022)\n",
      "GradientBoostingClassifier(learning_rate=0.01, max_depth=5, min_samples_leaf=2,\n",
      "                           n_estimators=500, random_state=2022)\n",
      "XGBClassifier(base_score=0.5, booster='gbtree', colsample_bylevel=1,\n",
      "              colsample_bynode=1, colsample_bytree=0.8, gamma=1.5, gpu_id=-1,\n",
      "              importance_type='gain', interaction_constraints='',\n",
      "              learning_rate=0.01, max_delta_step=0, max_depth=5,\n",
      "              min_child_weight=3, missing=nan, monotone_constraints='()',\n",
      "              n_estimators=100, n_jobs=1, nthread=1, num_parallel_tree=1,\n",
      "              random_state=2022, reg_alpha=0, reg_lambda=1, scale_pos_weight=1,\n",
      "              subsample=0.6, tree_method='exact', validate_parameters=1,\n",
      "              verbosity=None)\n",
      "####################### fold 1 ########################\n",
      "LogisticRegression(C=0.001, l1_ratio=0, penalty='elasticnet', random_state=2022,\n",
      "                   solver='saga')\n",
      "RandomForestClassifier(max_depth=5, min_samples_leaf=4, min_samples_split=10,\n",
      "                       random_state=2022)\n",
      "GradientBoostingClassifier(learning_rate=0.01, max_depth=8, min_samples_leaf=2,\n",
      "                           random_state=2022)\n",
      "XGBClassifier(base_score=0.5, booster='gbtree', colsample_bylevel=1,\n",
      "              colsample_bynode=1, colsample_bytree=0.8, gamma=1, gpu_id=-1,\n",
      "              importance_type='gain', interaction_constraints='',\n",
      "              learning_rate=0.01, max_delta_step=0, max_depth=5,\n",
      "              min_child_weight=3, missing=nan, monotone_constraints='()',\n",
      "              n_estimators=100, n_jobs=1, nthread=1, num_parallel_tree=1,\n",
      "              random_state=2022, reg_alpha=0, reg_lambda=1, scale_pos_weight=1,\n",
      "              subsample=0.8, tree_method='exact', validate_parameters=1,\n",
      "              verbosity=None)\n",
      "####################### fold 2 ########################\n",
      "LogisticRegression(C=0.001, l1_ratio=0, penalty='elasticnet', random_state=2022,\n",
      "                   solver='saga')\n",
      "RandomForestClassifier(max_depth=10, min_samples_leaf=2, min_samples_split=5,\n",
      "                       random_state=2022)\n",
      "GradientBoostingClassifier(max_depth=5, min_samples_leaf=2, n_estimators=200,\n",
      "                           random_state=2022)\n",
      "XGBClassifier(base_score=0.5, booster='gbtree', colsample_bylevel=1,\n",
      "              colsample_bynode=1, colsample_bytree=0.6, gamma=1.5, gpu_id=-1,\n",
      "              importance_type='gain', interaction_constraints='',\n",
      "              learning_rate=0.01, max_delta_step=0, max_depth=5,\n",
      "              min_child_weight=5, missing=nan, monotone_constraints='()',\n",
      "              n_estimators=100, n_jobs=1, nthread=1, num_parallel_tree=1,\n",
      "              random_state=2022, reg_alpha=0, reg_lambda=1, scale_pos_weight=1,\n",
      "              subsample=0.8, tree_method='exact', validate_parameters=1,\n",
      "              verbosity=None)\n",
      "####################### fold 3 ########################\n",
      "LogisticRegression(C=0.001, l1_ratio=0, penalty='elasticnet', random_state=2022,\n",
      "                   solver='saga')\n",
      "RandomForestClassifier(max_depth=5, min_samples_leaf=4, n_estimators=500,\n",
      "                       random_state=2022)\n",
      "GradientBoostingClassifier(learning_rate=0.05, max_depth=8, min_samples_leaf=4,\n",
      "                           n_estimators=500, random_state=2022)\n",
      "XGBClassifier(base_score=0.5, booster='gbtree', colsample_bylevel=1,\n",
      "              colsample_bynode=1, colsample_bytree=0.6, gamma=0.5, gpu_id=-1,\n",
      "              importance_type='gain', interaction_constraints='',\n",
      "              learning_rate=0.01, max_delta_step=0, max_depth=5,\n",
      "              min_child_weight=5, missing=nan, monotone_constraints='()',\n",
      "              n_estimators=100, n_jobs=1, nthread=1, num_parallel_tree=1,\n",
      "              random_state=2022, reg_alpha=0, reg_lambda=1, scale_pos_weight=1,\n",
      "              subsample=0.6, tree_method='exact', validate_parameters=1,\n",
      "              verbosity=None)\n",
      "####################### fold 4 ########################\n",
      "LogisticRegression(C=0.01, l1_ratio=0, penalty='elasticnet', random_state=2022,\n",
      "                   solver='saga')\n",
      "RandomForestClassifier(max_depth=10, min_samples_leaf=4, random_state=2022)\n",
      "GradientBoostingClassifier(learning_rate=0.05, max_depth=8, min_samples_leaf=2,\n",
      "                           min_samples_split=5, n_estimators=200,\n",
      "                           random_state=2022)\n",
      "XGBClassifier(base_score=0.5, booster='gbtree', colsample_bylevel=1,\n",
      "              colsample_bynode=1, colsample_bytree=0.8, gamma=1.5, gpu_id=-1,\n",
      "              importance_type='gain', interaction_constraints='',\n",
      "              learning_rate=0.01, max_delta_step=0, max_depth=5,\n",
      "              min_child_weight=1, missing=nan, monotone_constraints='()',\n",
      "              n_estimators=100, n_jobs=1, nthread=1, num_parallel_tree=1,\n",
      "              random_state=2022, reg_alpha=0, reg_lambda=1, scale_pos_weight=1,\n",
      "              subsample=0.8, tree_method='exact', validate_parameters=1,\n",
      "              verbosity=None)\n",
      "ela_mean_auc: 0.6267982456140351\n",
      "rf_mean_auc: 0.6568540669856459\n",
      "gbm_mean_auc: 0.6270215311004785\n",
      "xgb_mean_auc: 0.6549760765550239\n",
      "[[32 27]\n",
      " [34 63]]\n",
      "accuracy: 0.6089743589743589 f1-score: 0.6737967914438502 recall: 0.6494845360824743 precision: 0.7\n",
      "[[25 34]\n",
      " [18 79]]\n",
      "accuracy: 0.6666666666666666 f1-score: 0.7523809523809524 recall: 0.8144329896907216 precision: 0.6991150442477876\n",
      "[[25 34]\n",
      " [23 74]]\n",
      "accuracy: 0.6346153846153846 f1-score: 0.7219512195121952 recall: 0.7628865979381443 precision: 0.6851851851851852\n",
      "[[24 35]\n",
      " [21 76]]\n",
      "accuracy: 0.6410256410256411 f1-score: 0.7307692307692308 recall: 0.7835051546391752 precision: 0.6846846846846847\n"
     ]
    }
   ],
   "source": [
    "train,test = pre_process_2(EEGHRV, cls = 3, file_name = \"None\", method = 0)\n",
    "train, test = scaling(train,test)\n",
    "cl3_eeghrv_whole = Mytunning2(train,test)"
   ]
  },
  {
   "cell_type": "markdown",
   "id": "amber-supply",
   "metadata": {},
   "source": [
    "### ROC Curve"
   ]
  },
  {
   "cell_type": "code",
   "execution_count": 20,
   "id": "ancient-quest",
   "metadata": {},
   "outputs": [
    {
     "data": {
      "image/png": "[encoded data removed]",
      "text/plain": [
       "<Figure size 504x504 with 1 Axes>"
      ]
     },
     "metadata": {
      "needs_background": "light"
     },
     "output_type": "display_data"
    }
   ],
   "source": [
    "mean_sis1_best, mean_sis2_best, mean_whole_best = cl3_vanilla40_eeghrv[3], cl3_vanilla40_eeghrv_new[3], cl3_eeghrv_whole[1]\n",
    "\n",
    "mean_sis1_best = [0]+list(mean_sis1_best)\n",
    "mean_sis2_best = [0]+list(mean_sis2_best)\n",
    "mean_whole_best = [0]+list(mean_whole_best)\n",
    "\n",
    "mean_fpr = [0]+list(np.linspace(0,1,100))\n",
    "plt.rcParams[\"figure.figsize\"] = (7, 7)\n",
    "plt.plot(mean_fpr, mean_sis1_best, color='red',label=r'[SIS1] XGB (AUC = 0.790)',lw=1, alpha=1)\n",
    "plt.plot(mean_fpr, mean_sis2_best, color='green',label=r'[SIS2] XGB (AUC = 0.761)',lw=1, alpha=1)\n",
    "plt.plot(mean_fpr, mean_whole_best, color='blue',label=r'[Whole] RF (AUC = 0.657)',lw=1, alpha=1)\n",
    "plt.plot(mean_fpr, mean_fpr, color='grey',lw=1, alpha=1, linestyle='--')\n",
    "plt.title('ROC Curve of '+ 'HC vs. DIS' + ' Classification (EEG, HRV)', fontsize = 15)\n",
    "plt.xlabel('False Positive Rate', fontsize = 15)\n",
    "plt.ylabel('True Positive Rate', fontsize = 15)\n",
    "plt.legend(loc='lower right', prop={'size': 15})\n",
    "plt.show()"
   ]
  },
  {
   "cell_type": "code",
   "execution_count": 22,
   "id": "athletic-teach",
   "metadata": {},
   "outputs": [
    {
     "data": {
      "image/png": "[encoded data removed]",
      "text/plain": [
       "<Figure size 504x396 with 1 Axes>"
      ]
     },
     "metadata": {
      "needs_background": "light"
     },
     "output_type": "display_data"
    }
   ],
   "source": [
    "mean_sis1_best, mean_sis2_best, mean_whole_best = cl3_vanilla40_eeghrv[3], cl3_vanilla40_eeghrv_new[3], cl3_eeghrv_whole[1]\n",
    "\n",
    "mean_sis1_best = [0]+list(mean_sis1_best)\n",
    "mean_sis2_best = [0]+list(mean_sis2_best)\n",
    "mean_whole_best = [0]+list(mean_whole_best)\n",
    "\n",
    "mean_fpr = [0]+list(np.linspace(0,1,100))\n",
    "plt.rcParams[\"figure.figsize\"] = (7, 5.5)\n",
    "plt.plot(mean_fpr, mean_sis1_best, color='red',label=r'[SIS1] XGB (AUC = 0.790)',lw=1, alpha=1)\n",
    "plt.plot(mean_fpr, mean_sis2_best, color='green',label=r'[SIS2] XGB (AUC = 0.761)',lw=1, alpha=1)\n",
    "plt.plot(mean_fpr, mean_whole_best, color='blue',label=r'[Whole] RF (AUC = 0.657)',lw=1, alpha=1)\n",
    "plt.plot(mean_fpr, mean_fpr, color='grey',lw=1, alpha=1, linestyle='--')\n",
    "plt.title('ROC Curve of '+ 'HC vs. DIS' + ' Classification (EEG, HRV)', fontsize = 15)\n",
    "plt.xlabel('False Positive Rate', fontsize = 15)\n",
    "plt.ylabel('True Positive Rate', fontsize = 15)\n",
    "plt.legend(loc='lower right', prop={'size': 15})\n",
    "plt.show()"
   ]
  }
 ],
 "metadata": {
  "colab": {
   "collapsed_sections": [],
   "name": "[0406] 전체코드 2class_selected feature.ipynb",
   "provenance": []
  },
  "kernelspec": {
   "display_name": "Python 3",
   "language": "python",
   "name": "python3"
  },
  "language_info": {
   "codemirror_mode": {
    "name": "ipython",
    "version": 3
   },
   "file_extension": ".py",
   "mimetype": "text/x-python",
   "name": "python",
   "nbconvert_exporter": "python",
   "pygments_lexer": "ipython3",
   "version": "3.7.9"
  }
 },
 "nbformat": 4,
 "nbformat_minor": 5
}
