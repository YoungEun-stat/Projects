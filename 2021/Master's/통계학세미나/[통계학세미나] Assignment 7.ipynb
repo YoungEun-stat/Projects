{
 "cells": [
  {
   "cell_type": "markdown",
   "id": "stylish-world",
   "metadata": {},
   "source": [
    "# 통계학 세미나 HW 7\n",
    "## 212STG10 박영은"
   ]
  },
  {
   "cell_type": "markdown",
   "id": "extensive-silicon",
   "metadata": {},
   "source": [
    "### 1. 주어진 자연수가 홀수인지 짝수인지 판별해 주는 함수(is_odd)를 작성해 보자."
   ]
  },
  {
   "cell_type": "code",
   "execution_count": 1,
   "id": "utility-suffering",
   "metadata": {},
   "outputs": [],
   "source": [
    "def is_odd(num):\n",
    "    if num%2 == 0:\n",
    "        print('짝수')\n",
    "    else:\n",
    "        print('홀수')"
   ]
  },
  {
   "cell_type": "code",
   "execution_count": 2,
   "id": "based-connecticut",
   "metadata": {},
   "outputs": [
    {
     "name": "stdout",
     "output_type": "stream",
     "text": [
      "홀수\n",
      "짝수\n"
     ]
    }
   ],
   "source": [
    "#예시\n",
    "is_odd(3)\n",
    "is_odd(100)"
   ]
  },
  {
   "cell_type": "markdown",
   "id": "authorized-conditions",
   "metadata": {},
   "source": [
    "### 2. 입력으로 들어오는 모든 수의 평균 값을 계산해 주는 함수를 작성해 보자. (단 입력으로 들어오는 수의 개수는 정해져 있지 않다.)"
   ]
  },
  {
   "cell_type": "code",
   "execution_count": 3,
   "id": "weekly-filing",
   "metadata": {},
   "outputs": [],
   "source": [
    "def means(*args):\n",
    "    result = 0\n",
    "    for i in args:\n",
    "        result += i\n",
    "    return result/len(args)"
   ]
  },
  {
   "cell_type": "code",
   "execution_count": 4,
   "id": "collected-manhattan",
   "metadata": {},
   "outputs": [
    {
     "name": "stdout",
     "output_type": "stream",
     "text": [
      "4.0\n",
      "101.0\n"
     ]
    }
   ],
   "source": [
    "#예시\n",
    "print(means(1,3,5,7))\n",
    "print(means(100,101,102))"
   ]
  },
  {
   "cell_type": "markdown",
   "id": "injured-twins",
   "metadata": {},
   "source": [
    "### 3. 다음은 \"test.txt\"라는 파일에 \"Life is too short\" 문자열을 저장한 후 다시 그 파일을 읽어서 출력하는 프로그램이다. 이 프로그램은 우리가 예상한 \"Life is too short\"라는 문장을 출력하지 않는다. 우리가 예상한 값을 출력할 수 있도록 프로그램을 수정해 보자."
   ]
  },
  {
   "cell_type": "code",
   "execution_count": 5,
   "id": "indirect-diploma",
   "metadata": {},
   "outputs": [
    {
     "name": "stdout",
     "output_type": "stream",
     "text": [
      "Life is too short\n"
     ]
    }
   ],
   "source": [
    "f1 = open(\"test1.txt\", 'w')    #아래 문항과 파일 구분을 위해 test1으로 저장\n",
    "f1.write(\"Life is too short\")\n",
    "f1. close()\n",
    "f2 = open(\"test1.txt\", 'r')\n",
    "print(f2.read())\n",
    "f2.close() "
   ]
  },
  {
   "cell_type": "markdown",
   "id": "professional-placement",
   "metadata": {},
   "source": [
    "### 4. 사용자의 입력을 파일(test.txt)에 저장하는 프로그램을 작성해 보자. (단 프로그램을 다시 실행하더라도 기존에 작성한 내용을 유지하고 새로 입력한 내용을 추가해야 한다.)"
   ]
  },
  {
   "cell_type": "code",
   "execution_count": 6,
   "id": "young-score",
   "metadata": {},
   "outputs": [
    {
     "name": "stdout",
     "output_type": "stream",
     "text": [
      "hello\n"
     ]
    }
   ],
   "source": [
    "what= input(\"\") \n",
    "f = open('test2.txt', 'a')      #다른 문항과 파일 구분을 위해 test2으로 저장\n",
    "f.write(what) \n",
    "f.write(\"\\n\") \n",
    "f.close() "
   ]
  },
  {
   "cell_type": "markdown",
   "id": "baking-experiment",
   "metadata": {},
   "source": [
    "### 5. 다음과 같은 내용을 지닌 파일 test.txt 가 있다. 이 파일의 내용 중 \"java\"라는 문자열을 \"python\"으로 바꾸어서 저장해 보자."
   ]
  },
  {
   "cell_type": "code",
   "execution_count": 7,
   "id": "coral-expert",
   "metadata": {},
   "outputs": [
    {
     "name": "stdout",
     "output_type": "stream",
     "text": [
      "Life is too short\n",
      "you need java \n",
      "Life is too short\n",
      "you need python \n"
     ]
    }
   ],
   "source": [
    "f = open('test3.txt', 'r')   #다른 문항과 파일 구분을 위해 test3으로 지정\n",
    "word = f.read()\n",
    "print(word)\n",
    "f.close()\n",
    "\n",
    "word = word.replace('java', 'python')\n",
    "f = open('test3.txt', 'w')\n",
    "f.write(word)\n",
    "print(word)\n",
    "f.close()"
   ]
  }
 ],
 "metadata": {
  "kernelspec": {
   "display_name": "Python 3",
   "language": "python",
   "name": "python3"
  },
  "language_info": {
   "codemirror_mode": {
    "name": "ipython",
    "version": 3
   },
   "file_extension": ".py",
   "mimetype": "text/x-python",
   "name": "python",
   "nbconvert_exporter": "python",
   "pygments_lexer": "ipython3",
   "version": "3.7.9"
  }
 },
 "nbformat": 4,
 "nbformat_minor": 5
}
