{
 "cells": [
  {
   "cell_type": "markdown",
   "id": "imposed-diamond",
   "metadata": {},
   "source": [
    "## 자료분석특론 2 HW4\n",
    "\n",
    "### 212STG10 박영은"
   ]
  },
  {
   "cell_type": "code",
   "execution_count": 1,
   "id": "executive-judges",
   "metadata": {},
   "outputs": [],
   "source": [
    "import pandas as pd\n",
    "import numpy as np\n",
    "\n",
    "from sklearn.pipeline import Pipeline\n",
    "from sklearn.model_selection import train_test_split\n",
    "from sklearn.preprocessing import StandardScaler\n",
    "from sklearn.metrics import mean_squared_error\n",
    "from sklearn.metrics import accuracy_score\n",
    "\n",
    "from sklearn.preprocessing import PolynomialFeatures \n",
    "from sklearn.svm import LinearSVC\n",
    "from sklearn.svm import SVC\n",
    "from sklearn.linear_model import SGDClassifier\n",
    "from sklearn.svm import LinearSVR\n",
    "from sklearn.svm import SVR"
   ]
  },
  {
   "cell_type": "markdown",
   "id": "democratic-builder",
   "metadata": {},
   "source": [
    "## 1."
   ]
  },
  {
   "cell_type": "markdown",
   "id": "looking-economics",
   "metadata": {},
   "source": [
    "### 데이터 불러오기 및 전처리"
   ]
  },
  {
   "cell_type": "code",
   "execution_count": 2,
   "id": "continued-douglas",
   "metadata": {},
   "outputs": [],
   "source": [
    "housing = pd.read_csv('housing.csv')"
   ]
  },
  {
   "cell_type": "code",
   "execution_count": 3,
   "id": "mounted-questionnaire",
   "metadata": {},
   "outputs": [
    {
     "data": {
      "text/html": [
       "<div>\n",
       "<style scoped>\n",
       "    .dataframe tbody tr th:only-of-type {\n",
       "        vertical-align: middle;\n",
       "    }\n",
       "\n",
       "    .dataframe tbody tr th {\n",
       "        vertical-align: top;\n",
       "    }\n",
       "\n",
       "    .dataframe thead th {\n",
       "        text-align: right;\n",
       "    }\n",
       "</style>\n",
       "<table border=\"1\" class=\"dataframe\">\n",
       "  <thead>\n",
       "    <tr style=\"text-align: right;\">\n",
       "      <th></th>\n",
       "      <th>longitude</th>\n",
       "      <th>latitude</th>\n",
       "      <th>housing_median_age</th>\n",
       "      <th>total_rooms</th>\n",
       "      <th>total_bedrooms</th>\n",
       "      <th>population</th>\n",
       "      <th>households</th>\n",
       "      <th>median_income</th>\n",
       "      <th>median_house_value</th>\n",
       "      <th>ocean_proximity</th>\n",
       "    </tr>\n",
       "  </thead>\n",
       "  <tbody>\n",
       "    <tr>\n",
       "      <th>0</th>\n",
       "      <td>-122.23</td>\n",
       "      <td>37.88</td>\n",
       "      <td>41.0</td>\n",
       "      <td>880.0</td>\n",
       "      <td>129.0</td>\n",
       "      <td>322.0</td>\n",
       "      <td>126.0</td>\n",
       "      <td>8.3252</td>\n",
       "      <td>452600.0</td>\n",
       "      <td>NEAR BAY</td>\n",
       "    </tr>\n",
       "    <tr>\n",
       "      <th>1</th>\n",
       "      <td>-122.22</td>\n",
       "      <td>37.86</td>\n",
       "      <td>21.0</td>\n",
       "      <td>7099.0</td>\n",
       "      <td>1106.0</td>\n",
       "      <td>2401.0</td>\n",
       "      <td>1138.0</td>\n",
       "      <td>8.3014</td>\n",
       "      <td>358500.0</td>\n",
       "      <td>NEAR BAY</td>\n",
       "    </tr>\n",
       "    <tr>\n",
       "      <th>2</th>\n",
       "      <td>-122.24</td>\n",
       "      <td>37.85</td>\n",
       "      <td>52.0</td>\n",
       "      <td>1467.0</td>\n",
       "      <td>190.0</td>\n",
       "      <td>496.0</td>\n",
       "      <td>177.0</td>\n",
       "      <td>7.2574</td>\n",
       "      <td>352100.0</td>\n",
       "      <td>NEAR BAY</td>\n",
       "    </tr>\n",
       "    <tr>\n",
       "      <th>3</th>\n",
       "      <td>-122.25</td>\n",
       "      <td>37.85</td>\n",
       "      <td>52.0</td>\n",
       "      <td>1274.0</td>\n",
       "      <td>235.0</td>\n",
       "      <td>558.0</td>\n",
       "      <td>219.0</td>\n",
       "      <td>5.6431</td>\n",
       "      <td>341300.0</td>\n",
       "      <td>NEAR BAY</td>\n",
       "    </tr>\n",
       "    <tr>\n",
       "      <th>4</th>\n",
       "      <td>-122.25</td>\n",
       "      <td>37.85</td>\n",
       "      <td>52.0</td>\n",
       "      <td>1627.0</td>\n",
       "      <td>280.0</td>\n",
       "      <td>565.0</td>\n",
       "      <td>259.0</td>\n",
       "      <td>3.8462</td>\n",
       "      <td>342200.0</td>\n",
       "      <td>NEAR BAY</td>\n",
       "    </tr>\n",
       "  </tbody>\n",
       "</table>\n",
       "</div>"
      ],
      "text/plain": [
       "   longitude  latitude  housing_median_age  total_rooms  total_bedrooms  \\\n",
       "0    -122.23     37.88                41.0        880.0           129.0   \n",
       "1    -122.22     37.86                21.0       7099.0          1106.0   \n",
       "2    -122.24     37.85                52.0       1467.0           190.0   \n",
       "3    -122.25     37.85                52.0       1274.0           235.0   \n",
       "4    -122.25     37.85                52.0       1627.0           280.0   \n",
       "\n",
       "   population  households  median_income  median_house_value ocean_proximity  \n",
       "0       322.0       126.0         8.3252            452600.0        NEAR BAY  \n",
       "1      2401.0      1138.0         8.3014            358500.0        NEAR BAY  \n",
       "2       496.0       177.0         7.2574            352100.0        NEAR BAY  \n",
       "3       558.0       219.0         5.6431            341300.0        NEAR BAY  \n",
       "4       565.0       259.0         3.8462            342200.0        NEAR BAY  "
      ]
     },
     "execution_count": 3,
     "metadata": {},
     "output_type": "execute_result"
    }
   ],
   "source": [
    "housing.head()"
   ]
  },
  {
   "cell_type": "code",
   "execution_count": 4,
   "id": "treated-sacramento",
   "metadata": {},
   "outputs": [
    {
     "data": {
      "text/plain": [
       "(20640, 10)"
      ]
     },
     "execution_count": 4,
     "metadata": {},
     "output_type": "execute_result"
    }
   ],
   "source": [
    "housing.shape"
   ]
  },
  {
   "cell_type": "code",
   "execution_count": 5,
   "id": "marine-least",
   "metadata": {},
   "outputs": [
    {
     "data": {
      "text/plain": [
       "longitude               0\n",
       "latitude                0\n",
       "housing_median_age      0\n",
       "total_rooms             0\n",
       "total_bedrooms        207\n",
       "population              0\n",
       "households              0\n",
       "median_income           0\n",
       "median_house_value      0\n",
       "ocean_proximity         0\n",
       "dtype: int64"
      ]
     },
     "execution_count": 5,
     "metadata": {},
     "output_type": "execute_result"
    }
   ],
   "source": [
    "#  결측치 확인\n",
    "housing.isnull().sum()"
   ]
  },
  {
   "cell_type": "code",
   "execution_count": 6,
   "id": "welcome-affair",
   "metadata": {},
   "outputs": [
    {
     "data": {
      "text/plain": [
       "longitude             0\n",
       "latitude              0\n",
       "housing_median_age    0\n",
       "total_rooms           0\n",
       "total_bedrooms        0\n",
       "population            0\n",
       "households            0\n",
       "median_income         0\n",
       "median_house_value    0\n",
       "ocean_proximity       0\n",
       "dtype: int64"
      ]
     },
     "execution_count": 6,
     "metadata": {},
     "output_type": "execute_result"
    }
   ],
   "source": [
    "# total_bedrooms 결측치 보간\n",
    "housing_new = housing.fillna(housing['total_bedrooms'].median())\n",
    "housing_new.isnull().sum()"
   ]
  },
  {
   "cell_type": "code",
   "execution_count": 7,
   "id": "victorian-respondent",
   "metadata": {},
   "outputs": [
    {
     "data": {
      "text/html": [
       "<div>\n",
       "<style scoped>\n",
       "    .dataframe tbody tr th:only-of-type {\n",
       "        vertical-align: middle;\n",
       "    }\n",
       "\n",
       "    .dataframe tbody tr th {\n",
       "        vertical-align: top;\n",
       "    }\n",
       "\n",
       "    .dataframe thead th {\n",
       "        text-align: right;\n",
       "    }\n",
       "</style>\n",
       "<table border=\"1\" class=\"dataframe\">\n",
       "  <thead>\n",
       "    <tr style=\"text-align: right;\">\n",
       "      <th></th>\n",
       "      <th>longitude</th>\n",
       "      <th>latitude</th>\n",
       "      <th>housing_median_age</th>\n",
       "      <th>total_rooms</th>\n",
       "      <th>total_bedrooms</th>\n",
       "      <th>population</th>\n",
       "      <th>households</th>\n",
       "      <th>median_income</th>\n",
       "      <th>median_house_value</th>\n",
       "      <th>ocean_proximity_&lt;1H OCEAN</th>\n",
       "      <th>ocean_proximity_INLAND</th>\n",
       "      <th>ocean_proximity_ISLAND</th>\n",
       "      <th>ocean_proximity_NEAR BAY</th>\n",
       "      <th>ocean_proximity_NEAR OCEAN</th>\n",
       "    </tr>\n",
       "  </thead>\n",
       "  <tbody>\n",
       "    <tr>\n",
       "      <th>0</th>\n",
       "      <td>-122.23</td>\n",
       "      <td>37.88</td>\n",
       "      <td>41.0</td>\n",
       "      <td>880.0</td>\n",
       "      <td>129.0</td>\n",
       "      <td>322.0</td>\n",
       "      <td>126.0</td>\n",
       "      <td>8.3252</td>\n",
       "      <td>452600.0</td>\n",
       "      <td>0</td>\n",
       "      <td>0</td>\n",
       "      <td>0</td>\n",
       "      <td>1</td>\n",
       "      <td>0</td>\n",
       "    </tr>\n",
       "    <tr>\n",
       "      <th>1</th>\n",
       "      <td>-122.22</td>\n",
       "      <td>37.86</td>\n",
       "      <td>21.0</td>\n",
       "      <td>7099.0</td>\n",
       "      <td>1106.0</td>\n",
       "      <td>2401.0</td>\n",
       "      <td>1138.0</td>\n",
       "      <td>8.3014</td>\n",
       "      <td>358500.0</td>\n",
       "      <td>0</td>\n",
       "      <td>0</td>\n",
       "      <td>0</td>\n",
       "      <td>1</td>\n",
       "      <td>0</td>\n",
       "    </tr>\n",
       "    <tr>\n",
       "      <th>2</th>\n",
       "      <td>-122.24</td>\n",
       "      <td>37.85</td>\n",
       "      <td>52.0</td>\n",
       "      <td>1467.0</td>\n",
       "      <td>190.0</td>\n",
       "      <td>496.0</td>\n",
       "      <td>177.0</td>\n",
       "      <td>7.2574</td>\n",
       "      <td>352100.0</td>\n",
       "      <td>0</td>\n",
       "      <td>0</td>\n",
       "      <td>0</td>\n",
       "      <td>1</td>\n",
       "      <td>0</td>\n",
       "    </tr>\n",
       "    <tr>\n",
       "      <th>3</th>\n",
       "      <td>-122.25</td>\n",
       "      <td>37.85</td>\n",
       "      <td>52.0</td>\n",
       "      <td>1274.0</td>\n",
       "      <td>235.0</td>\n",
       "      <td>558.0</td>\n",
       "      <td>219.0</td>\n",
       "      <td>5.6431</td>\n",
       "      <td>341300.0</td>\n",
       "      <td>0</td>\n",
       "      <td>0</td>\n",
       "      <td>0</td>\n",
       "      <td>1</td>\n",
       "      <td>0</td>\n",
       "    </tr>\n",
       "    <tr>\n",
       "      <th>4</th>\n",
       "      <td>-122.25</td>\n",
       "      <td>37.85</td>\n",
       "      <td>52.0</td>\n",
       "      <td>1627.0</td>\n",
       "      <td>280.0</td>\n",
       "      <td>565.0</td>\n",
       "      <td>259.0</td>\n",
       "      <td>3.8462</td>\n",
       "      <td>342200.0</td>\n",
       "      <td>0</td>\n",
       "      <td>0</td>\n",
       "      <td>0</td>\n",
       "      <td>1</td>\n",
       "      <td>0</td>\n",
       "    </tr>\n",
       "    <tr>\n",
       "      <th>...</th>\n",
       "      <td>...</td>\n",
       "      <td>...</td>\n",
       "      <td>...</td>\n",
       "      <td>...</td>\n",
       "      <td>...</td>\n",
       "      <td>...</td>\n",
       "      <td>...</td>\n",
       "      <td>...</td>\n",
       "      <td>...</td>\n",
       "      <td>...</td>\n",
       "      <td>...</td>\n",
       "      <td>...</td>\n",
       "      <td>...</td>\n",
       "      <td>...</td>\n",
       "    </tr>\n",
       "    <tr>\n",
       "      <th>20635</th>\n",
       "      <td>-121.09</td>\n",
       "      <td>39.48</td>\n",
       "      <td>25.0</td>\n",
       "      <td>1665.0</td>\n",
       "      <td>374.0</td>\n",
       "      <td>845.0</td>\n",
       "      <td>330.0</td>\n",
       "      <td>1.5603</td>\n",
       "      <td>78100.0</td>\n",
       "      <td>0</td>\n",
       "      <td>1</td>\n",
       "      <td>0</td>\n",
       "      <td>0</td>\n",
       "      <td>0</td>\n",
       "    </tr>\n",
       "    <tr>\n",
       "      <th>20636</th>\n",
       "      <td>-121.21</td>\n",
       "      <td>39.49</td>\n",
       "      <td>18.0</td>\n",
       "      <td>697.0</td>\n",
       "      <td>150.0</td>\n",
       "      <td>356.0</td>\n",
       "      <td>114.0</td>\n",
       "      <td>2.5568</td>\n",
       "      <td>77100.0</td>\n",
       "      <td>0</td>\n",
       "      <td>1</td>\n",
       "      <td>0</td>\n",
       "      <td>0</td>\n",
       "      <td>0</td>\n",
       "    </tr>\n",
       "    <tr>\n",
       "      <th>20637</th>\n",
       "      <td>-121.22</td>\n",
       "      <td>39.43</td>\n",
       "      <td>17.0</td>\n",
       "      <td>2254.0</td>\n",
       "      <td>485.0</td>\n",
       "      <td>1007.0</td>\n",
       "      <td>433.0</td>\n",
       "      <td>1.7000</td>\n",
       "      <td>92300.0</td>\n",
       "      <td>0</td>\n",
       "      <td>1</td>\n",
       "      <td>0</td>\n",
       "      <td>0</td>\n",
       "      <td>0</td>\n",
       "    </tr>\n",
       "    <tr>\n",
       "      <th>20638</th>\n",
       "      <td>-121.32</td>\n",
       "      <td>39.43</td>\n",
       "      <td>18.0</td>\n",
       "      <td>1860.0</td>\n",
       "      <td>409.0</td>\n",
       "      <td>741.0</td>\n",
       "      <td>349.0</td>\n",
       "      <td>1.8672</td>\n",
       "      <td>84700.0</td>\n",
       "      <td>0</td>\n",
       "      <td>1</td>\n",
       "      <td>0</td>\n",
       "      <td>0</td>\n",
       "      <td>0</td>\n",
       "    </tr>\n",
       "    <tr>\n",
       "      <th>20639</th>\n",
       "      <td>-121.24</td>\n",
       "      <td>39.37</td>\n",
       "      <td>16.0</td>\n",
       "      <td>2785.0</td>\n",
       "      <td>616.0</td>\n",
       "      <td>1387.0</td>\n",
       "      <td>530.0</td>\n",
       "      <td>2.3886</td>\n",
       "      <td>89400.0</td>\n",
       "      <td>0</td>\n",
       "      <td>1</td>\n",
       "      <td>0</td>\n",
       "      <td>0</td>\n",
       "      <td>0</td>\n",
       "    </tr>\n",
       "  </tbody>\n",
       "</table>\n",
       "<p>20640 rows × 14 columns</p>\n",
       "</div>"
      ],
      "text/plain": [
       "       longitude  latitude  housing_median_age  total_rooms  total_bedrooms  \\\n",
       "0        -122.23     37.88                41.0        880.0           129.0   \n",
       "1        -122.22     37.86                21.0       7099.0          1106.0   \n",
       "2        -122.24     37.85                52.0       1467.0           190.0   \n",
       "3        -122.25     37.85                52.0       1274.0           235.0   \n",
       "4        -122.25     37.85                52.0       1627.0           280.0   \n",
       "...          ...       ...                 ...          ...             ...   \n",
       "20635    -121.09     39.48                25.0       1665.0           374.0   \n",
       "20636    -121.21     39.49                18.0        697.0           150.0   \n",
       "20637    -121.22     39.43                17.0       2254.0           485.0   \n",
       "20638    -121.32     39.43                18.0       1860.0           409.0   \n",
       "20639    -121.24     39.37                16.0       2785.0           616.0   \n",
       "\n",
       "       population  households  median_income  median_house_value  \\\n",
       "0           322.0       126.0         8.3252            452600.0   \n",
       "1          2401.0      1138.0         8.3014            358500.0   \n",
       "2           496.0       177.0         7.2574            352100.0   \n",
       "3           558.0       219.0         5.6431            341300.0   \n",
       "4           565.0       259.0         3.8462            342200.0   \n",
       "...           ...         ...            ...                 ...   \n",
       "20635       845.0       330.0         1.5603             78100.0   \n",
       "20636       356.0       114.0         2.5568             77100.0   \n",
       "20637      1007.0       433.0         1.7000             92300.0   \n",
       "20638       741.0       349.0         1.8672             84700.0   \n",
       "20639      1387.0       530.0         2.3886             89400.0   \n",
       "\n",
       "       ocean_proximity_<1H OCEAN  ocean_proximity_INLAND  \\\n",
       "0                              0                       0   \n",
       "1                              0                       0   \n",
       "2                              0                       0   \n",
       "3                              0                       0   \n",
       "4                              0                       0   \n",
       "...                          ...                     ...   \n",
       "20635                          0                       1   \n",
       "20636                          0                       1   \n",
       "20637                          0                       1   \n",
       "20638                          0                       1   \n",
       "20639                          0                       1   \n",
       "\n",
       "       ocean_proximity_ISLAND  ocean_proximity_NEAR BAY  \\\n",
       "0                           0                         1   \n",
       "1                           0                         1   \n",
       "2                           0                         1   \n",
       "3                           0                         1   \n",
       "4                           0                         1   \n",
       "...                       ...                       ...   \n",
       "20635                       0                         0   \n",
       "20636                       0                         0   \n",
       "20637                       0                         0   \n",
       "20638                       0                         0   \n",
       "20639                       0                         0   \n",
       "\n",
       "       ocean_proximity_NEAR OCEAN  \n",
       "0                               0  \n",
       "1                               0  \n",
       "2                               0  \n",
       "3                               0  \n",
       "4                               0  \n",
       "...                           ...  \n",
       "20635                           0  \n",
       "20636                           0  \n",
       "20637                           0  \n",
       "20638                           0  \n",
       "20639                           0  \n",
       "\n",
       "[20640 rows x 14 columns]"
      ]
     },
     "execution_count": 7,
     "metadata": {},
     "output_type": "execute_result"
    }
   ],
   "source": [
    "# ocean_proximity 변수 더미화\n",
    "housing_new = pd.get_dummies(data = housing_new, columns=['ocean_proximity'])\n",
    "\n",
    "#최종 데이터셋\n",
    "housing_new"
   ]
  },
  {
   "cell_type": "markdown",
   "id": "super-shoulder",
   "metadata": {},
   "source": [
    "### train/test 분리"
   ]
  },
  {
   "cell_type": "code",
   "execution_count": 8,
   "id": "expressed-edmonton",
   "metadata": {},
   "outputs": [],
   "source": [
    "y = housing_new['median_house_value']\n",
    "X = housing_new.drop('median_house_value',axis=1, inplace=False)\n",
    "\n",
    "# training set 80%, test set 20%\n",
    "X_train, X_test, y_train, y_test = train_test_split(X, y, test_size=0.2, random_state=2021)"
   ]
  },
  {
   "cell_type": "markdown",
   "id": "twenty-biography",
   "metadata": {},
   "source": [
    "### SVM 모델 학습(Regression)"
   ]
  },
  {
   "cell_type": "code",
   "execution_count": 9,
   "id": "tribal-district",
   "metadata": {},
   "outputs": [
    {
     "name": "stdout",
     "output_type": "stream",
     "text": [
      "train mse:  49298982221.870605  test mse:  50533079596.59187\n",
      "train rmse:  222033.74117883662 test rmse:  224795.63962984664\n"
     ]
    }
   ],
   "source": [
    "# 데이터 스케일링\n",
    "svm_reg = Pipeline([\n",
    " (\"scaler\", StandardScaler()),\n",
    " (\"linear_svc\", LinearSVR(random_state=2021)),\n",
    " ])\n",
    "\n",
    "svm_reg.fit(X_train, y_train)\n",
    "\n",
    "y_train_pred = svm_reg.predict(X_train)\n",
    "y_test_pred = svm_reg.predict(X_test)\n",
    "\n",
    "train_mse_scores  = mean_squared_error(y_train, y_train_pred)\n",
    "test_mse_scores  = mean_squared_error(y_test, y_test_pred)\n",
    "\n",
    "train_rmse_scores = np.sqrt(train_mse_scores)\n",
    "test_rmse_scores = np.sqrt(test_mse_scores)\n",
    "\n",
    "print('train mse: ', train_mse_scores, ' test mse: ', test_mse_scores)\n",
    "print('train rmse: ', train_rmse_scores, 'test rmse: ', test_rmse_scores)"
   ]
  },
  {
   "cell_type": "code",
   "execution_count": 10,
   "id": "wooden-reserve",
   "metadata": {},
   "outputs": [
    {
     "name": "stdout",
     "output_type": "stream",
     "text": [
      "train mse:  9650942210.66562  test mse:  10019461440.475851\n",
      "train rmse:  98239.20913090465 test rmse:  100097.25990493372\n"
     ]
    }
   ],
   "source": [
    "svm_poly_reg = Pipeline([\n",
    " (\"scaler\", StandardScaler()),\n",
    " (\"svm_poly_reg\",SVR(kernel=\"poly\", degree=3, C=100, epsilon=0.1, gamma=\"scale\")),\n",
    " ])\n",
    "\n",
    "svm_poly_reg.fit(X_train, y_train)\n",
    "\n",
    "y_train_pred = svm_poly_reg.predict(X_train)\n",
    "y_test_pred = svm_poly_reg.predict(X_test)\n",
    "\n",
    "train_mse_scores  = mean_squared_error(y_train, y_train_pred)\n",
    "test_mse_scores  = mean_squared_error(y_test, y_test_pred)\n",
    "\n",
    "train_rmse_scores = np.sqrt(train_mse_scores)\n",
    "test_rmse_scores = np.sqrt(test_mse_scores)\n",
    "\n",
    "print('train mse: ', train_mse_scores, ' test mse: ', test_mse_scores)\n",
    "print('train rmse: ', train_rmse_scores, 'test rmse: ', test_rmse_scores)"
   ]
  },
  {
   "cell_type": "markdown",
   "id": "formal-cooler",
   "metadata": {},
   "source": [
    "여러 모델에 학습시킨 결과, 모두 train mse(rmse)가 test mse(rmse)보다 낮았다. \n",
    "\n",
    "또한, 선형모델을 사용하는 것보다 3차원의 polynomial 커널을 사용한 SVR모델이 train과 test 모두에서 더 낮은 mse(rmse)를 보여 더 좋은 예측을 할 수 있는 모델임을 확인하였다."
   ]
  },
  {
   "cell_type": "markdown",
   "id": "cooked-deadline",
   "metadata": {},
   "source": [
    "## 2. "
   ]
  },
  {
   "cell_type": "markdown",
   "id": "eastern-volleyball",
   "metadata": {},
   "source": [
    "### 데이터 불러오기 및 전처리"
   ]
  },
  {
   "cell_type": "code",
   "execution_count": 11,
   "id": "innocent-kruger",
   "metadata": {},
   "outputs": [],
   "source": [
    "spam = pd.read_csv('spambase.data', header=None)\n",
    "spam_columns = open('spambase.names', 'r')\n",
    "spam_columns = pd.DataFrame(spam_columns,columns=['names'])"
   ]
  },
  {
   "cell_type": "code",
   "execution_count": 12,
   "id": "bound-batch",
   "metadata": {},
   "outputs": [
    {
     "data": {
      "text/plain": [
       "(4601, 58)"
      ]
     },
     "execution_count": 12,
     "metadata": {},
     "output_type": "execute_result"
    }
   ],
   "source": [
    "spam.shape"
   ]
  },
  {
   "cell_type": "code",
   "execution_count": 13,
   "id": "hungarian-botswana",
   "metadata": {},
   "outputs": [],
   "source": [
    "# spam 데이터 칼럼명 변경\n",
    "spam_columns = spam_columns.tail(57).append({'names':'spam/nonspam:'},ignore_index=True)\n",
    "spam_columns = spam_columns['names'].str.split(' ').str[0]\n",
    "spam.columns = spam_columns"
   ]
  },
  {
   "cell_type": "code",
   "execution_count": 14,
   "id": "informed-messenger",
   "metadata": {},
   "outputs": [
    {
     "data": {
      "text/plain": [
       "names\n",
       "word_freq_make:                0\n",
       "word_freq_address:             0\n",
       "word_freq_all:                 0\n",
       "word_freq_3d:                  0\n",
       "word_freq_our:                 0\n",
       "word_freq_over:                0\n",
       "word_freq_remove:              0\n",
       "word_freq_internet:            0\n",
       "word_freq_order:               0\n",
       "word_freq_mail:                0\n",
       "word_freq_receive:             0\n",
       "word_freq_will:                0\n",
       "word_freq_people:              0\n",
       "word_freq_report:              0\n",
       "word_freq_addresses:           0\n",
       "word_freq_free:                0\n",
       "word_freq_business:            0\n",
       "word_freq_email:               0\n",
       "word_freq_you:                 0\n",
       "word_freq_credit:              0\n",
       "word_freq_your:                0\n",
       "word_freq_font:                0\n",
       "word_freq_000:                 0\n",
       "word_freq_money:               0\n",
       "word_freq_hp:                  0\n",
       "word_freq_hpl:                 0\n",
       "word_freq_george:              0\n",
       "word_freq_650:                 0\n",
       "word_freq_lab:                 0\n",
       "word_freq_labs:                0\n",
       "word_freq_telnet:              0\n",
       "word_freq_857:                 0\n",
       "word_freq_data:                0\n",
       "word_freq_415:                 0\n",
       "word_freq_85:                  0\n",
       "word_freq_technology:          0\n",
       "word_freq_1999:                0\n",
       "word_freq_parts:               0\n",
       "word_freq_pm:                  0\n",
       "word_freq_direct:              0\n",
       "word_freq_cs:                  0\n",
       "word_freq_meeting:             0\n",
       "word_freq_original:            0\n",
       "word_freq_project:             0\n",
       "word_freq_re:                  0\n",
       "word_freq_edu:                 0\n",
       "word_freq_table:               0\n",
       "word_freq_conference:          0\n",
       "char_freq_;:                   0\n",
       "char_freq_(:                   0\n",
       "char_freq_[:                   0\n",
       "char_freq_!:                   0\n",
       "char_freq_$:                   0\n",
       "char_freq_#:                   0\n",
       "capital_run_length_average:    0\n",
       "capital_run_length_longest:    0\n",
       "capital_run_length_total:      0\n",
       "spam/nonspam:                  0\n",
       "dtype: int64"
      ]
     },
     "execution_count": 14,
     "metadata": {},
     "output_type": "execute_result"
    }
   ],
   "source": [
    "# 결측치 확인\n",
    "spam.isnull().sum()  # 결측치 없음"
   ]
  },
  {
   "cell_type": "code",
   "execution_count": 15,
   "id": "speaking-cheese",
   "metadata": {},
   "outputs": [
    {
     "data": {
      "text/html": [
       "<div>\n",
       "<style scoped>\n",
       "    .dataframe tbody tr th:only-of-type {\n",
       "        vertical-align: middle;\n",
       "    }\n",
       "\n",
       "    .dataframe tbody tr th {\n",
       "        vertical-align: top;\n",
       "    }\n",
       "\n",
       "    .dataframe thead th {\n",
       "        text-align: right;\n",
       "    }\n",
       "</style>\n",
       "<table border=\"1\" class=\"dataframe\">\n",
       "  <thead>\n",
       "    <tr style=\"text-align: right;\">\n",
       "      <th>names</th>\n",
       "      <th>word_freq_make:</th>\n",
       "      <th>word_freq_address:</th>\n",
       "      <th>word_freq_all:</th>\n",
       "      <th>word_freq_3d:</th>\n",
       "      <th>word_freq_our:</th>\n",
       "      <th>word_freq_over:</th>\n",
       "      <th>word_freq_remove:</th>\n",
       "      <th>word_freq_internet:</th>\n",
       "      <th>word_freq_order:</th>\n",
       "      <th>word_freq_mail:</th>\n",
       "      <th>...</th>\n",
       "      <th>char_freq_;:</th>\n",
       "      <th>char_freq_(:</th>\n",
       "      <th>char_freq_[:</th>\n",
       "      <th>char_freq_!:</th>\n",
       "      <th>char_freq_$:</th>\n",
       "      <th>char_freq_#:</th>\n",
       "      <th>capital_run_length_average:</th>\n",
       "      <th>capital_run_length_longest:</th>\n",
       "      <th>capital_run_length_total:</th>\n",
       "      <th>spam/nonspam:</th>\n",
       "    </tr>\n",
       "  </thead>\n",
       "  <tbody>\n",
       "    <tr>\n",
       "      <th>0</th>\n",
       "      <td>0.00</td>\n",
       "      <td>0.64</td>\n",
       "      <td>0.64</td>\n",
       "      <td>0.0</td>\n",
       "      <td>0.32</td>\n",
       "      <td>0.00</td>\n",
       "      <td>0.00</td>\n",
       "      <td>0.00</td>\n",
       "      <td>0.00</td>\n",
       "      <td>0.00</td>\n",
       "      <td>...</td>\n",
       "      <td>0.00</td>\n",
       "      <td>0.000</td>\n",
       "      <td>0.0</td>\n",
       "      <td>0.778</td>\n",
       "      <td>0.000</td>\n",
       "      <td>0.000</td>\n",
       "      <td>3.756</td>\n",
       "      <td>61</td>\n",
       "      <td>278</td>\n",
       "      <td>1</td>\n",
       "    </tr>\n",
       "    <tr>\n",
       "      <th>1</th>\n",
       "      <td>0.21</td>\n",
       "      <td>0.28</td>\n",
       "      <td>0.50</td>\n",
       "      <td>0.0</td>\n",
       "      <td>0.14</td>\n",
       "      <td>0.28</td>\n",
       "      <td>0.21</td>\n",
       "      <td>0.07</td>\n",
       "      <td>0.00</td>\n",
       "      <td>0.94</td>\n",
       "      <td>...</td>\n",
       "      <td>0.00</td>\n",
       "      <td>0.132</td>\n",
       "      <td>0.0</td>\n",
       "      <td>0.372</td>\n",
       "      <td>0.180</td>\n",
       "      <td>0.048</td>\n",
       "      <td>5.114</td>\n",
       "      <td>101</td>\n",
       "      <td>1028</td>\n",
       "      <td>1</td>\n",
       "    </tr>\n",
       "    <tr>\n",
       "      <th>2</th>\n",
       "      <td>0.06</td>\n",
       "      <td>0.00</td>\n",
       "      <td>0.71</td>\n",
       "      <td>0.0</td>\n",
       "      <td>1.23</td>\n",
       "      <td>0.19</td>\n",
       "      <td>0.19</td>\n",
       "      <td>0.12</td>\n",
       "      <td>0.64</td>\n",
       "      <td>0.25</td>\n",
       "      <td>...</td>\n",
       "      <td>0.01</td>\n",
       "      <td>0.143</td>\n",
       "      <td>0.0</td>\n",
       "      <td>0.276</td>\n",
       "      <td>0.184</td>\n",
       "      <td>0.010</td>\n",
       "      <td>9.821</td>\n",
       "      <td>485</td>\n",
       "      <td>2259</td>\n",
       "      <td>1</td>\n",
       "    </tr>\n",
       "    <tr>\n",
       "      <th>3</th>\n",
       "      <td>0.00</td>\n",
       "      <td>0.00</td>\n",
       "      <td>0.00</td>\n",
       "      <td>0.0</td>\n",
       "      <td>0.63</td>\n",
       "      <td>0.00</td>\n",
       "      <td>0.31</td>\n",
       "      <td>0.63</td>\n",
       "      <td>0.31</td>\n",
       "      <td>0.63</td>\n",
       "      <td>...</td>\n",
       "      <td>0.00</td>\n",
       "      <td>0.137</td>\n",
       "      <td>0.0</td>\n",
       "      <td>0.137</td>\n",
       "      <td>0.000</td>\n",
       "      <td>0.000</td>\n",
       "      <td>3.537</td>\n",
       "      <td>40</td>\n",
       "      <td>191</td>\n",
       "      <td>1</td>\n",
       "    </tr>\n",
       "    <tr>\n",
       "      <th>4</th>\n",
       "      <td>0.00</td>\n",
       "      <td>0.00</td>\n",
       "      <td>0.00</td>\n",
       "      <td>0.0</td>\n",
       "      <td>0.63</td>\n",
       "      <td>0.00</td>\n",
       "      <td>0.31</td>\n",
       "      <td>0.63</td>\n",
       "      <td>0.31</td>\n",
       "      <td>0.63</td>\n",
       "      <td>...</td>\n",
       "      <td>0.00</td>\n",
       "      <td>0.135</td>\n",
       "      <td>0.0</td>\n",
       "      <td>0.135</td>\n",
       "      <td>0.000</td>\n",
       "      <td>0.000</td>\n",
       "      <td>3.537</td>\n",
       "      <td>40</td>\n",
       "      <td>191</td>\n",
       "      <td>1</td>\n",
       "    </tr>\n",
       "  </tbody>\n",
       "</table>\n",
       "<p>5 rows × 58 columns</p>\n",
       "</div>"
      ],
      "text/plain": [
       "names  word_freq_make:  word_freq_address:  word_freq_all:  word_freq_3d:  \\\n",
       "0                 0.00                0.64            0.64            0.0   \n",
       "1                 0.21                0.28            0.50            0.0   \n",
       "2                 0.06                0.00            0.71            0.0   \n",
       "3                 0.00                0.00            0.00            0.0   \n",
       "4                 0.00                0.00            0.00            0.0   \n",
       "\n",
       "names  word_freq_our:  word_freq_over:  word_freq_remove:  \\\n",
       "0                0.32             0.00               0.00   \n",
       "1                0.14             0.28               0.21   \n",
       "2                1.23             0.19               0.19   \n",
       "3                0.63             0.00               0.31   \n",
       "4                0.63             0.00               0.31   \n",
       "\n",
       "names  word_freq_internet:  word_freq_order:  word_freq_mail:  ...  \\\n",
       "0                     0.00              0.00             0.00  ...   \n",
       "1                     0.07              0.00             0.94  ...   \n",
       "2                     0.12              0.64             0.25  ...   \n",
       "3                     0.63              0.31             0.63  ...   \n",
       "4                     0.63              0.31             0.63  ...   \n",
       "\n",
       "names  char_freq_;:  char_freq_(:  char_freq_[:  char_freq_!:  char_freq_$:  \\\n",
       "0              0.00         0.000           0.0         0.778         0.000   \n",
       "1              0.00         0.132           0.0         0.372         0.180   \n",
       "2              0.01         0.143           0.0         0.276         0.184   \n",
       "3              0.00         0.137           0.0         0.137         0.000   \n",
       "4              0.00         0.135           0.0         0.135         0.000   \n",
       "\n",
       "names  char_freq_#:  capital_run_length_average:  capital_run_length_longest:  \\\n",
       "0             0.000                        3.756                           61   \n",
       "1             0.048                        5.114                          101   \n",
       "2             0.010                        9.821                          485   \n",
       "3             0.000                        3.537                           40   \n",
       "4             0.000                        3.537                           40   \n",
       "\n",
       "names  capital_run_length_total:  spam/nonspam:  \n",
       "0                            278              1  \n",
       "1                           1028              1  \n",
       "2                           2259              1  \n",
       "3                            191              1  \n",
       "4                            191              1  \n",
       "\n",
       "[5 rows x 58 columns]"
      ]
     },
     "execution_count": 15,
     "metadata": {},
     "output_type": "execute_result"
    }
   ],
   "source": [
    "# 최종 데이터셋\n",
    "spam.head()"
   ]
  },
  {
   "cell_type": "markdown",
   "id": "better-stake",
   "metadata": {},
   "source": [
    "### train/test 분리"
   ]
  },
  {
   "cell_type": "code",
   "execution_count": 16,
   "id": "intensive-royal",
   "metadata": {},
   "outputs": [],
   "source": [
    "y = spam['spam/nonspam:']\n",
    "X = spam.drop('spam/nonspam:',axis=1, inplace=False)\n",
    "\n",
    "# training set 80%, test set 20%\n",
    "X_train, X_test, y_train, y_test = train_test_split(X, y, test_size=0.2, random_state=2021)"
   ]
  },
  {
   "cell_type": "markdown",
   "id": "exciting-alias",
   "metadata": {},
   "source": [
    "### SVM 모델 학습(Classification)"
   ]
  },
  {
   "cell_type": "code",
   "execution_count": 17,
   "id": "lined-appeal",
   "metadata": {},
   "outputs": [
    {
     "name": "stdout",
     "output_type": "stream",
     "text": [
      "train accuracy:  0.9334239130434783  test accuracy:  0.9218241042345277\n"
     ]
    },
    {
     "name": "stderr",
     "output_type": "stream",
     "text": [
      "C:\\Users\\User\\anaconda3\\lib\\site-packages\\sklearn\\svm\\_base.py:977: ConvergenceWarning: Liblinear failed to converge, increase the number of iterations.\n",
      "  \"the number of iterations.\", ConvergenceWarning)\n"
     ]
    }
   ],
   "source": [
    "# LinearSVC 모델\n",
    "svm_clf = Pipeline([\n",
    " (\"scaler\", StandardScaler()),\n",
    " (\"linear_svc\", LinearSVC(C=1, loss=\"hinge\", random_state=2021)),\n",
    " ])\n",
    "\n",
    "svm_clf.fit(X_train, y_train)\n",
    "\n",
    "y_train_pred = svm_clf.predict(X_train)\n",
    "y_test_pred = svm_clf.predict(X_test)\n",
    "\n",
    "train_acc_scores  = accuracy_score(y_train, y_train_pred)\n",
    "test_acc_scores  = accuracy_score(y_test, y_test_pred)\n",
    "print('train accuracy: ', train_acc_scores, ' test accuracy: ', test_acc_scores)"
   ]
  },
  {
   "cell_type": "code",
   "execution_count": 18,
   "id": "ordered-instruction",
   "metadata": {},
   "outputs": [
    {
     "name": "stderr",
     "output_type": "stream",
     "text": [
      "C:\\Users\\User\\anaconda3\\lib\\site-packages\\sklearn\\svm\\_base.py:977: ConvergenceWarning: Liblinear failed to converge, increase the number of iterations.\n",
      "  \"the number of iterations.\", ConvergenceWarning)\n"
     ]
    },
    {
     "name": "stdout",
     "output_type": "stream",
     "text": [
      "train accuracy:  0.9899456521739131  test accuracy:  0.8990228013029316\n"
     ]
    }
   ],
   "source": [
    "# Polynomial + LinearSVC\n",
    "polynomial_svm_clf = Pipeline([ (\"poly_features\", PolynomialFeatures(degree=3)), \n",
    "                               (\"scaler\", StandardScaler()), \n",
    "                               (\"svm_clf\", LinearSVC(C=1, loss=\"hinge\", random_state=2021)) ]) \n",
    "\n",
    "polynomial_svm_clf.fit(X_train, y_train)\n",
    "\n",
    "y_train_pred = polynomial_svm_clf.predict(X_train)\n",
    "y_test_pred = polynomial_svm_clf.predict(X_test)\n",
    "\n",
    "train_acc_scores  = accuracy_score(y_train, y_train_pred)\n",
    "test_acc_scores  = accuracy_score(y_test, y_test_pred)\n",
    "print('train accuracy: ', train_acc_scores, ' test accuracy: ', test_acc_scores)"
   ]
  },
  {
   "cell_type": "code",
   "execution_count": 19,
   "id": "relevant-wireless",
   "metadata": {},
   "outputs": [
    {
     "name": "stdout",
     "output_type": "stream",
     "text": [
      "train accuracy:  0.9192934782608696  test accuracy:  0.9163952225841476\n"
     ]
    }
   ],
   "source": [
    "# SGDClassifier\n",
    "m = X.shape[0]\n",
    "C = 1\n",
    "svm_clf_SGD = Pipeline([\n",
    " (\"scaler\", StandardScaler()),\n",
    " (\"SGD_linear\", SGDClassifier(loss=\"hinge\",alpha = 1/(m*C), random_state=2021))\n",
    " ])\n",
    "\n",
    "svm_clf_SGD.fit(X_train, y_train)\n",
    "\n",
    "y_train_pred = svm_clf_SGD.predict(X_train)\n",
    "y_test_pred = svm_clf_SGD.predict(X_test)\n",
    "\n",
    "train_acc_scores  = accuracy_score(y_train, y_train_pred)\n",
    "test_acc_scores  = accuracy_score(y_test, y_test_pred)\n",
    "print('train accuracy: ', train_acc_scores, ' test accuracy: ', test_acc_scores)"
   ]
  },
  {
   "cell_type": "code",
   "execution_count": 20,
   "id": "toxic-holly",
   "metadata": {},
   "outputs": [
    {
     "name": "stdout",
     "output_type": "stream",
     "text": [
      "train accuracy:  0.933695652173913  test accuracy:  0.9229098805646037\n"
     ]
    }
   ],
   "source": [
    "# SVC 'linear'\n",
    "svm_clf_SVC = Pipeline([\n",
    " (\"scaler\", StandardScaler()),\n",
    " (\"SVC_linear\", SVC(kernel='linear',C=1, random_state=2021)),\n",
    " ])\n",
    "svm_clf_SVC.fit(X_train, y_train)\n",
    "\n",
    "y_train_pred = svm_clf_SVC.predict(X_train)\n",
    "y_test_pred = svm_clf_SVC.predict(X_test)\n",
    "\n",
    "train_acc_scores  = accuracy_score(y_train, y_train_pred)\n",
    "test_acc_scores  = accuracy_score(y_test, y_test_pred)\n",
    "print('train accuracy: ', train_acc_scores, ' test accuracy: ', test_acc_scores)"
   ]
  },
  {
   "cell_type": "code",
   "execution_count": 21,
   "id": "closed-mambo",
   "metadata": {},
   "outputs": [
    {
     "name": "stdout",
     "output_type": "stream",
     "text": [
      "train accuracy:  0.9567934782608696  test accuracy:  0.9391965255157437\n"
     ]
    }
   ],
   "source": [
    "# SVC 'polynomial'\n",
    "svm_clf_SVC = Pipeline([\n",
    " (\"scaler\", StandardScaler()),\n",
    " (\"SVC_linear\", SVC(kernel='poly',degree = 3, coef0=1, C=1, random_state=2021)),\n",
    " ])\n",
    "svm_clf_SVC.fit(X_train, y_train)\n",
    "\n",
    "y_train_pred = svm_clf_SVC.predict(X_train)\n",
    "y_test_pred = svm_clf_SVC.predict(X_test)\n",
    "\n",
    "train_acc_scores  = accuracy_score(y_train, y_train_pred)\n",
    "test_acc_scores  = accuracy_score(y_test, y_test_pred)\n",
    "print('train accuracy: ', train_acc_scores, ' test accuracy: ', test_acc_scores)"
   ]
  },
  {
   "cell_type": "code",
   "execution_count": 22,
   "id": "specialized-summary",
   "metadata": {},
   "outputs": [
    {
     "name": "stdout",
     "output_type": "stream",
     "text": [
      "train accuracy:  0.9964673913043478  test accuracy:  0.7676438653637351\n"
     ]
    }
   ],
   "source": [
    "# SVC 'rbf'\n",
    "rbf_kernel_svm_clf = Pipeline([\n",
    " (\"scaler\", StandardScaler()),\n",
    " (\"svm_clf\", SVC(kernel=\"rbf\", gamma=5, C=1, random_state=2021))\n",
    " ])\n",
    "rbf_kernel_svm_clf.fit(X_train, y_train)\n",
    "\n",
    "y_train_pred = rbf_kernel_svm_clf.predict(X_train)\n",
    "y_test_pred = rbf_kernel_svm_clf.predict(X_test)\n",
    "\n",
    "train_acc_scores  = accuracy_score(y_train, y_train_pred)\n",
    "test_acc_scores  = accuracy_score(y_test, y_test_pred)\n",
    "print('train accuracy: ', train_acc_scores, ' test accuracy: ', test_acc_scores)"
   ]
  },
  {
   "cell_type": "markdown",
   "id": "lyric-velvet",
   "metadata": {},
   "source": [
    "여러 모델에 학습시킨 결과, 모두 train accuracy가 test accuracy보다 높았다. \n",
    "\n",
    "특히 SVC 모델에서 rbf 커널을 쓴 모델의 경우, train과 test의 정확도가 각각 99%, 76%로, 약 23% 정도 차이가 나면서 train set에 과적합이 된 것을 확인했다. 또한, Polynomial 변환을 하여 LinearSVC를 사용한 모델도 train과 test의 정확도가 약 9%정도로 상당한 차이를 보였다. 모델이 train set에 맞게 복잡해져 일반화가 어려웠다는 것을 의미한다.\n",
    "\n",
    "이외의 경우에는 대부분의 모델이 90%가 넘는 train 및 test accuracy를 보여주었다."
   ]
  }
 ],
 "metadata": {
  "kernelspec": {
   "display_name": "Python 3",
   "language": "python",
   "name": "python3"
  },
  "language_info": {
   "codemirror_mode": {
    "name": "ipython",
    "version": 3
   },
   "file_extension": ".py",
   "mimetype": "text/x-python",
   "name": "python",
   "nbconvert_exporter": "python",
   "pygments_lexer": "ipython3",
   "version": "3.7.9"
  }
 },
 "nbformat": 4,
 "nbformat_minor": 5
}
