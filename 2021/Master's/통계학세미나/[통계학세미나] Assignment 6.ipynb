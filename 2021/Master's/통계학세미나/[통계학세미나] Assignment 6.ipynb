{
 "cells": [
  {
   "cell_type": "markdown",
   "id": "contained-recorder",
   "metadata": {},
   "source": [
    "# 통계학 세미나 HW6\n",
    "## 212STG10 박영은"
   ]
  },
  {
   "cell_type": "markdown",
   "id": "inside-hindu",
   "metadata": {},
   "source": [
    "### 1. 자연수 13이 홀수인지 짝수인지 판별할 수 있는 방법에 대해 말해 보자."
   ]
  },
  {
   "cell_type": "markdown",
   "id": "durable-fossil",
   "metadata": {},
   "source": [
    "13을 2로 나누었을 때 나머지가 0이면 짝수, 나머지가 1이면 홀수이다. 따라서, if-else 조건문을 활용하여 아래와 같이 판별해본 결과 자연수 13은 홀수이다."
   ]
  },
  {
   "cell_type": "code",
   "execution_count": 1,
   "id": "digital-ethiopia",
   "metadata": {},
   "outputs": [
    {
     "name": "stdout",
     "output_type": "stream",
     "text": [
      "홀수\n"
     ]
    }
   ],
   "source": [
    "if 13%2 == 0:\n",
    "    print('짝수')\n",
    "else:\n",
    "    print('홀수')"
   ]
  },
  {
   "cell_type": "markdown",
   "id": "convertible-vessel",
   "metadata": {},
   "source": [
    "### 2. 홍길동 씨의 주민등록번호는 881120-1068234이다. 홍길동 씨의 주민등록번호를 연월일(YYYYMMDD) 부분과 그 뒤의 숫자 부분으로 나누어 출력해 보자."
   ]
  },
  {
   "cell_type": "code",
   "execution_count": 2,
   "id": "following-decline",
   "metadata": {},
   "outputs": [
    {
     "name": "stdout",
     "output_type": "stream",
     "text": [
      "19881120\n",
      "1068234\n"
     ]
    }
   ],
   "source": [
    "n = '881120-1068234'\n",
    "birth = '19'+ n.split('-')[0]\n",
    "number = n.split('-')[1]\n",
    "print(birth)\n",
    "print(number)"
   ]
  },
  {
   "cell_type": "markdown",
   "id": "collect-conclusion",
   "metadata": {},
   "source": [
    "### 3. ['Life', 'is', 'too', 'short'] 리스트를 Life is too short 문자열로 만들어 출력해 보자."
   ]
  },
  {
   "cell_type": "code",
   "execution_count": 3,
   "id": "suffering-genesis",
   "metadata": {},
   "outputs": [
    {
     "data": {
      "text/plain": [
       "'Life is too short'"
      ]
     },
     "execution_count": 3,
     "metadata": {},
     "output_type": "execute_result"
    }
   ],
   "source": [
    "list1= ['Life', 'is', 'too', 'short']\n",
    "' '.join(list1)"
   ]
  },
  {
   "cell_type": "markdown",
   "id": "amber-breast",
   "metadata": {},
   "source": [
    "### 4. (1,2,3) 튜플에 값 4를 추가하여 (1,2,3,4)를 만들어 출력해 보자."
   ]
  },
  {
   "cell_type": "code",
   "execution_count": 4,
   "id": "nearby-seeking",
   "metadata": {},
   "outputs": [
    {
     "data": {
      "text/plain": [
       "(1, 2, 3, 4)"
      ]
     },
     "execution_count": 4,
     "metadata": {},
     "output_type": "execute_result"
    }
   ],
   "source": [
    "tuple1 = (1,2,3)\n",
    "tuple2 = (4,)\n",
    "tuple1 + tuple2"
   ]
  },
  {
   "cell_type": "markdown",
   "id": "honey-draft",
   "metadata": {},
   "source": [
    "### 5. 딕셔너리 a에서 'B'에 해당되는 값을 추출해 보자."
   ]
  },
  {
   "cell_type": "code",
   "execution_count": 5,
   "id": "italic-night",
   "metadata": {},
   "outputs": [
    {
     "data": {
      "text/plain": [
       "80"
      ]
     },
     "execution_count": 5,
     "metadata": {},
     "output_type": "execute_result"
    }
   ],
   "source": [
    "a = {'A':90, 'B':80, 'C':70}\n",
    "a['B']"
   ]
  },
  {
   "cell_type": "markdown",
   "id": "experienced-demographic",
   "metadata": {},
   "source": [
    "### 6. a 리스트에서 중복 숫자를 제거해 보자."
   ]
  },
  {
   "cell_type": "code",
   "execution_count": 6,
   "id": "weighted-today",
   "metadata": {},
   "outputs": [
    {
     "data": {
      "text/plain": [
       "[1, 2, 3, 4, 5]"
      ]
     },
     "execution_count": 6,
     "metadata": {},
     "output_type": "execute_result"
    }
   ],
   "source": [
    "# set()활용\n",
    "a = [1, 1, 1, 2, 2, 3, 3, 3, 4, 4, 5]\n",
    "list(set(a))"
   ]
  },
  {
   "cell_type": "code",
   "execution_count": 7,
   "id": "representative-rover",
   "metadata": {},
   "outputs": [
    {
     "data": {
      "text/plain": [
       "[1, 2, 3, 4, 5]"
      ]
     },
     "execution_count": 7,
     "metadata": {},
     "output_type": "execute_result"
    }
   ],
   "source": [
    "# for문, 조건문 활용\n",
    "a = [1, 1, 1, 2, 2, 3, 3, 3, 4, 4, 5]\n",
    "b = []\n",
    "for i in a:\n",
    "    if i not in b:\n",
    "        b.append(i)\n",
    "b"
   ]
  },
  {
   "cell_type": "markdown",
   "id": "married-output",
   "metadata": {},
   "source": [
    "### 7. while문을 사용해 1부터 1000까지의 자연수 중 3의 배수의 합을 구해 보자."
   ]
  },
  {
   "cell_type": "code",
   "execution_count": 8,
   "id": "demanding-philadelphia",
   "metadata": {},
   "outputs": [
    {
     "data": {
      "text/plain": [
       "166833"
      ]
     },
     "execution_count": 8,
     "metadata": {},
     "output_type": "execute_result"
    }
   ],
   "source": [
    "n = 1\n",
    "sum_3 = 0\n",
    "while n <= 1000:\n",
    "    if n%3 == 0:\n",
    "        sum_3 += n\n",
    "    n += 1\n",
    "sum_3"
   ]
  },
  {
   "cell_type": "markdown",
   "id": "deluxe-christopher",
   "metadata": {},
   "source": [
    "### 8. while문을 사용하여 다음과 같이 별(*)을 표시하는 프로그램을 작성해 보자."
   ]
  },
  {
   "cell_type": "code",
   "execution_count": 9,
   "id": "assigned-victoria",
   "metadata": {},
   "outputs": [
    {
     "name": "stdout",
     "output_type": "stream",
     "text": [
      "*\n",
      "**\n",
      "***\n",
      "****\n",
      "*****\n"
     ]
    }
   ],
   "source": [
    "i=1\n",
    "while i<=5:\n",
    "    a = \"*\"*i\n",
    "    i+=1\n",
    "    print(a)"
   ]
  },
  {
   "cell_type": "markdown",
   "id": "conditional-workshop",
   "metadata": {},
   "source": [
    "### 9. 리스트 중에서 홀수에만 2를 곱하여 저장하는 다음 코드가 있다.\n",
    "### 위 코드를 리스트 내포(list comprehension)를 사용하여 표현해 보자."
   ]
  },
  {
   "cell_type": "code",
   "execution_count": 10,
   "id": "retired-rapid",
   "metadata": {},
   "outputs": [
    {
     "data": {
      "text/plain": [
       "[2, 6, 10]"
      ]
     },
     "execution_count": 10,
     "metadata": {},
     "output_type": "execute_result"
    }
   ],
   "source": [
    "numbers = [1, 2, 3, 4, 5]\n",
    "result = []\n",
    "for n in numbers:\n",
    "    if n % 2 == 1:\n",
    "        result.append(n*2)\n",
    "result"
   ]
  },
  {
   "cell_type": "code",
   "execution_count": 11,
   "id": "gross-success",
   "metadata": {},
   "outputs": [
    {
     "data": {
      "text/plain": [
       "[2, 6, 10]"
      ]
     },
     "execution_count": 11,
     "metadata": {},
     "output_type": "execute_result"
    }
   ],
   "source": [
    "# list comprehension 사용\n",
    "numbers = [1, 2, 3, 4, 5]\n",
    "result = [n*2 for n in numbers if n % 2 == 1]\n",
    "result"
   ]
  }
 ],
 "metadata": {
  "kernelspec": {
   "display_name": "Python 3",
   "language": "python",
   "name": "python3"
  },
  "language_info": {
   "codemirror_mode": {
    "name": "ipython",
    "version": 3
   },
   "file_extension": ".py",
   "mimetype": "text/x-python",
   "name": "python",
   "nbconvert_exporter": "python",
   "pygments_lexer": "ipython3",
   "version": "3.7.9"
  }
 },
 "nbformat": 4,
 "nbformat_minor": 5
}
