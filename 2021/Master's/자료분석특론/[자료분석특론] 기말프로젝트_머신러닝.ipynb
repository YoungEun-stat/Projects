{
 "cells": [
  {
   "cell_type": "markdown",
   "metadata": {
    "id": "B1WZAuUCisN0"
   },
   "source": [
    "## 머신러닝을 활용한 아파트 거래금액 예측"
   ]
  },
  {
   "cell_type": "markdown",
   "metadata": {
    "id": "M_HBTMHfiwc6"
   },
   "source": [
    "### 전처리"
   ]
  },
  {
   "cell_type": "code",
   "execution_count": 1,
   "metadata": {
    "id": "3NlWaIM14zqd"
   },
   "outputs": [],
   "source": [
    "import pandas as pd\n",
    "import numpy as np\n",
    "\n",
    "from sklearn.pipeline import Pipeline\n",
    "from sklearn.model_selection import train_test_split\n",
    "from sklearn.preprocessing import StandardScaler\n",
    "from sklearn.metrics import mean_squared_error\n",
    "\n",
    "from matplotlib import pyplot as plt\n",
    "\n",
    "import warnings\n",
    "warnings.filterwarnings('ignore')"
   ]
  },
  {
   "cell_type": "code",
   "execution_count": 2,
   "metadata": {
    "id": "9JovcW1lkb99"
   },
   "outputs": [],
   "source": [
    "from sklearn.ensemble import RandomForestRegressor, ExtraTreesRegressor\n",
    "from sklearn.tree import DecisionTreeRegressor\n",
    "from sklearn.svm import LinearSVR\n",
    "from sklearn.svm import SVR\n",
    "from sklearn.linear_model import SGDClassifier\n",
    "from sklearn.linear_model import LinearRegression\n",
    "from sklearn.ensemble import AdaBoostRegressor\n",
    "from sklearn.ensemble import GradientBoostingRegressor\n",
    "from xgboost import XGBRegressor\n",
    "from lightgbm import LGBMRegressor"
   ]
  },
  {
   "cell_type": "code",
   "execution_count": 3,
   "metadata": {
    "colab": {
     "base_uri": "https://localhost:8080/"
    },
    "id": "CSqWr0iV5Mo5",
    "outputId": "1d363f23-caa5-40f8-8444-c751dcad0d72"
   },
   "outputs": [
    {
     "name": "stdout",
     "output_type": "stream",
     "text": [
      "Mounted at /content/drive\n"
     ]
    }
   ],
   "source": [
    "from google.colab import drive\n",
    "drive.mount('/content/drive')"
   ]
  },
  {
   "cell_type": "code",
   "execution_count": 29,
   "metadata": {
    "id": "aHdg-CABV2lf"
   },
   "outputs": [],
   "source": [
    "data = pd.read_csv('/content/drive/MyDrive/Colab Notebooks/Apart Deal.csv')"
   ]
  },
  {
   "cell_type": "code",
   "execution_count": 30,
   "metadata": {
    "colab": {
     "base_uri": "https://localhost:8080/",
     "height": 206
    },
    "id": "fQD43IBW5Tqw",
    "outputId": "49952214-116a-41f6-88ef-79b617091a47"
   },
   "outputs": [
    {
     "data": {
      "text/html": [
       "<div>\n",
       "<style scoped>\n",
       "    .dataframe tbody tr th:only-of-type {\n",
       "        vertical-align: middle;\n",
       "    }\n",
       "\n",
       "    .dataframe tbody tr th {\n",
       "        vertical-align: top;\n",
       "    }\n",
       "\n",
       "    .dataframe thead th {\n",
       "        text-align: right;\n",
       "    }\n",
       "</style>\n",
       "<table border=\"1\" class=\"dataframe\">\n",
       "  <thead>\n",
       "    <tr style=\"text-align: right;\">\n",
       "      <th></th>\n",
       "      <th>지역코드</th>\n",
       "      <th>법정동</th>\n",
       "      <th>거래일</th>\n",
       "      <th>아파트</th>\n",
       "      <th>지번</th>\n",
       "      <th>전용면적</th>\n",
       "      <th>층</th>\n",
       "      <th>건축년도</th>\n",
       "      <th>거래금액</th>\n",
       "    </tr>\n",
       "  </thead>\n",
       "  <tbody>\n",
       "    <tr>\n",
       "      <th>0</th>\n",
       "      <td>31110</td>\n",
       "      <td>학성동</td>\n",
       "      <td>5/30/2020 0:00</td>\n",
       "      <td>남운학성타운</td>\n",
       "      <td>379</td>\n",
       "      <td>135.5800</td>\n",
       "      <td>8</td>\n",
       "      <td>1991</td>\n",
       "      <td>26700</td>\n",
       "    </tr>\n",
       "    <tr>\n",
       "      <th>1</th>\n",
       "      <td>31110</td>\n",
       "      <td>남외동</td>\n",
       "      <td>1/3/2020 0:00</td>\n",
       "      <td>남외푸르지오1차</td>\n",
       "      <td>506-1</td>\n",
       "      <td>101.6000</td>\n",
       "      <td>2</td>\n",
       "      <td>2006</td>\n",
       "      <td>35500</td>\n",
       "    </tr>\n",
       "    <tr>\n",
       "      <th>2</th>\n",
       "      <td>31110</td>\n",
       "      <td>남외동</td>\n",
       "      <td>1/3/2020 0:00</td>\n",
       "      <td>에일린의뜰</td>\n",
       "      <td>500</td>\n",
       "      <td>84.9920</td>\n",
       "      <td>11</td>\n",
       "      <td>2007</td>\n",
       "      <td>36500</td>\n",
       "    </tr>\n",
       "    <tr>\n",
       "      <th>3</th>\n",
       "      <td>31110</td>\n",
       "      <td>남외동</td>\n",
       "      <td>1/3/2020 0:00</td>\n",
       "      <td>남외푸르지오1차</td>\n",
       "      <td>506-1</td>\n",
       "      <td>118.7060</td>\n",
       "      <td>8</td>\n",
       "      <td>2006</td>\n",
       "      <td>43000</td>\n",
       "    </tr>\n",
       "    <tr>\n",
       "      <th>4</th>\n",
       "      <td>31110</td>\n",
       "      <td>남외동</td>\n",
       "      <td>1/4/2020 0:00</td>\n",
       "      <td>남외푸르지오2차</td>\n",
       "      <td>501-1</td>\n",
       "      <td>84.9636</td>\n",
       "      <td>7</td>\n",
       "      <td>2007</td>\n",
       "      <td>38700</td>\n",
       "    </tr>\n",
       "  </tbody>\n",
       "</table>\n",
       "</div>"
      ],
      "text/plain": [
       "    지역코드  법정동             거래일       아파트     지번      전용면적   층  건축년도   거래금액\n",
       "0  31110  학성동  5/30/2020 0:00    남운학성타운    379  135.5800   8  1991  26700\n",
       "1  31110  남외동   1/3/2020 0:00  남외푸르지오1차  506-1  101.6000   2  2006  35500\n",
       "2  31110  남외동   1/3/2020 0:00     에일린의뜰    500   84.9920  11  2007  36500\n",
       "3  31110  남외동   1/3/2020 0:00  남외푸르지오1차  506-1  118.7060   8  2006  43000\n",
       "4  31110  남외동   1/4/2020 0:00  남외푸르지오2차  501-1   84.9636   7  2007  38700"
      ]
     },
     "execution_count": 30,
     "metadata": {},
     "output_type": "execute_result"
    }
   ],
   "source": [
    "data.head()"
   ]
  },
  {
   "cell_type": "code",
   "execution_count": 31,
   "metadata": {
    "colab": {
     "base_uri": "https://localhost:8080/"
    },
    "id": "ZS1ReRtk5jUX",
    "outputId": "c4983606-db27-4df1-8011-3d34b6150389"
   },
   "outputs": [
    {
     "data": {
      "text/plain": [
       "(4315703, 9)"
      ]
     },
     "execution_count": 31,
     "metadata": {},
     "output_type": "execute_result"
    }
   ],
   "source": [
    "data.shape"
   ]
  },
  {
   "cell_type": "code",
   "execution_count": 32,
   "metadata": {
    "id": "7kujHPrd5mlE"
   },
   "outputs": [],
   "source": [
    "# '지역코드' 변수 타입 변환(int->str)\n",
    "data['지역코드'] = data['지역코드'].astype(str)"
   ]
  },
  {
   "cell_type": "code",
   "execution_count": 33,
   "metadata": {
    "id": "VOkzveL05oBi"
   },
   "outputs": [],
   "source": [
    "# '층' 변수 타입 변환(object->float)\n",
    "data['층'] =data['층'].replace(' ', \"\")\n",
    "data['층'] = pd.to_numeric(data['층'])"
   ]
  },
  {
   "cell_type": "code",
   "execution_count": 34,
   "metadata": {
    "id": "Vde5H_cX5pqT"
   },
   "outputs": [],
   "source": [
    "# 거래일 date 형태 통일\n",
    "data['거래일'] = pd.to_datetime(data['거래일'])\n",
    "data['거래일'] = data['거래일'].astype(str)\n",
    "\n",
    "# 년, 월, 일 변수 생성\n",
    "data['년'] = data['거래일'].str.split('-').str[0]\n",
    "data['월'] = data['거래일'].str.split('-').str[1]\n",
    "data['일'] = data['거래일'].str.split('-').str[2]\n",
    "data['일'] = data['일'].str.split(' ').str[0]\n",
    "\n",
    "# 년, 월, 일 변수 type 변경\n",
    "data[['년', '월']] = data[['년', '월']].astype('category')"
   ]
  },
  {
   "cell_type": "code",
   "execution_count": 35,
   "metadata": {
    "id": "2khXDQwyWnj2"
   },
   "outputs": [],
   "source": [
    "data['일'] = data['일'].astype(np.int8)"
   ]
  },
  {
   "cell_type": "code",
   "execution_count": 36,
   "metadata": {
    "id": "LHMLDOkZW0MF"
   },
   "outputs": [],
   "source": [
    "data[\"일\"] = data[\"일\"].apply(lambda x: 'beginning' if x <=10 else 'middle' if x<=20 else 'end')"
   ]
  },
  {
   "cell_type": "code",
   "execution_count": 37,
   "metadata": {
    "id": "L110LZoX5r8N"
   },
   "outputs": [],
   "source": [
    "# 건축년도를 활용하여 연식 변수 생성\n",
    "data['연식'] = 2022 - data['건축년도']"
   ]
  },
  {
   "cell_type": "code",
   "execution_count": 38,
   "metadata": {
    "colab": {
     "base_uri": "https://localhost:8080/"
    },
    "id": "uAwKi4TU5yxl",
    "outputId": "639f59b4-df42-4cd5-b0ba-a081b906976b"
   },
   "outputs": [
    {
     "name": "stdout",
     "output_type": "stream",
     "text": [
      "<class 'pandas.core.frame.DataFrame'>\n",
      "RangeIndex: 4315703 entries, 0 to 4315702\n",
      "Data columns (total 13 columns):\n",
      " #   Column  Dtype   \n",
      "---  ------  -----   \n",
      " 0   지역코드    object  \n",
      " 1   법정동     object  \n",
      " 2   거래일     object  \n",
      " 3   아파트     object  \n",
      " 4   지번      object  \n",
      " 5   전용면적    float64 \n",
      " 6   층       float64 \n",
      " 7   건축년도    int64   \n",
      " 8   거래금액    int64   \n",
      " 9   년       category\n",
      " 10  월       category\n",
      " 11  일       object  \n",
      " 12  연식      int64   \n",
      "dtypes: category(2), float64(2), int64(3), object(6)\n",
      "memory usage: 370.4+ MB\n"
     ]
    }
   ],
   "source": [
    "data.info()"
   ]
  },
  {
   "cell_type": "code",
   "execution_count": 39,
   "metadata": {
    "colab": {
     "base_uri": "https://localhost:8080/"
    },
    "id": "_9iVGcqP51Mn",
    "outputId": "f122fdbf-c240-48fc-e1e9-b351fb265c00"
   },
   "outputs": [
    {
     "data": {
      "text/plain": [
       "지역코드      0\n",
       "법정동       0\n",
       "거래일       0\n",
       "아파트       0\n",
       "지번      404\n",
       "전용면적      0\n",
       "층         1\n",
       "건축년도      0\n",
       "거래금액      0\n",
       "년         0\n",
       "월         0\n",
       "일         0\n",
       "연식        0\n",
       "dtype: int64"
      ]
     },
     "execution_count": 39,
     "metadata": {},
     "output_type": "execute_result"
    }
   ],
   "source": [
    "# 결측치 확인\n",
    "data.isna().sum()"
   ]
  },
  {
   "cell_type": "code",
   "execution_count": 40,
   "metadata": {
    "id": "9Elpn5uI513L"
   },
   "outputs": [],
   "source": [
    "# 분석에 사용하지 않을 변수 삭제\n",
    "data_new = data.drop(columns=['지번', '거래일', '건축년도', '아파트', '법정동'])"
   ]
  },
  {
   "cell_type": "code",
   "execution_count": 41,
   "metadata": {
    "colab": {
     "base_uri": "https://localhost:8080/"
    },
    "id": "Z4KIjNLc53eN",
    "outputId": "8a0aa5b4-64ff-485d-d44f-1681c2aeee9d"
   },
   "outputs": [
    {
     "data": {
      "text/plain": [
       "(4315702, 8)"
      ]
     },
     "execution_count": 41,
     "metadata": {},
     "output_type": "execute_result"
    }
   ],
   "source": [
    "# '층' 변수 결측치가 1개 존재하여 해당 행 삭제\n",
    "data_new = data_new.dropna()\n",
    "data_new.shape"
   ]
  },
  {
   "cell_type": "code",
   "execution_count": 42,
   "metadata": {
    "colab": {
     "base_uri": "https://localhost:8080/",
     "height": 206
    },
    "id": "hBNwtqXe5431",
    "outputId": "9c7e9b00-ab2d-406c-a04e-876fd2294662"
   },
   "outputs": [
    {
     "data": {
      "text/html": [
       "<div>\n",
       "<style scoped>\n",
       "    .dataframe tbody tr th:only-of-type {\n",
       "        vertical-align: middle;\n",
       "    }\n",
       "\n",
       "    .dataframe tbody tr th {\n",
       "        vertical-align: top;\n",
       "    }\n",
       "\n",
       "    .dataframe thead th {\n",
       "        text-align: right;\n",
       "    }\n",
       "</style>\n",
       "<table border=\"1\" class=\"dataframe\">\n",
       "  <thead>\n",
       "    <tr style=\"text-align: right;\">\n",
       "      <th></th>\n",
       "      <th>지역코드</th>\n",
       "      <th>전용면적</th>\n",
       "      <th>층</th>\n",
       "      <th>거래금액</th>\n",
       "      <th>년</th>\n",
       "      <th>월</th>\n",
       "      <th>일</th>\n",
       "      <th>연식</th>\n",
       "    </tr>\n",
       "  </thead>\n",
       "  <tbody>\n",
       "    <tr>\n",
       "      <th>0</th>\n",
       "      <td>31110</td>\n",
       "      <td>135.5800</td>\n",
       "      <td>8.0</td>\n",
       "      <td>26700</td>\n",
       "      <td>2020</td>\n",
       "      <td>05</td>\n",
       "      <td>end</td>\n",
       "      <td>31</td>\n",
       "    </tr>\n",
       "    <tr>\n",
       "      <th>1</th>\n",
       "      <td>31110</td>\n",
       "      <td>101.6000</td>\n",
       "      <td>2.0</td>\n",
       "      <td>35500</td>\n",
       "      <td>2020</td>\n",
       "      <td>01</td>\n",
       "      <td>beginning</td>\n",
       "      <td>16</td>\n",
       "    </tr>\n",
       "    <tr>\n",
       "      <th>2</th>\n",
       "      <td>31110</td>\n",
       "      <td>84.9920</td>\n",
       "      <td>11.0</td>\n",
       "      <td>36500</td>\n",
       "      <td>2020</td>\n",
       "      <td>01</td>\n",
       "      <td>beginning</td>\n",
       "      <td>15</td>\n",
       "    </tr>\n",
       "    <tr>\n",
       "      <th>3</th>\n",
       "      <td>31110</td>\n",
       "      <td>118.7060</td>\n",
       "      <td>8.0</td>\n",
       "      <td>43000</td>\n",
       "      <td>2020</td>\n",
       "      <td>01</td>\n",
       "      <td>beginning</td>\n",
       "      <td>16</td>\n",
       "    </tr>\n",
       "    <tr>\n",
       "      <th>4</th>\n",
       "      <td>31110</td>\n",
       "      <td>84.9636</td>\n",
       "      <td>7.0</td>\n",
       "      <td>38700</td>\n",
       "      <td>2020</td>\n",
       "      <td>01</td>\n",
       "      <td>beginning</td>\n",
       "      <td>15</td>\n",
       "    </tr>\n",
       "  </tbody>\n",
       "</table>\n",
       "</div>"
      ],
      "text/plain": [
       "    지역코드      전용면적     층   거래금액     년   월          일  연식\n",
       "0  31110  135.5800   8.0  26700  2020  05        end  31\n",
       "1  31110  101.6000   2.0  35500  2020  01  beginning  16\n",
       "2  31110   84.9920  11.0  36500  2020  01  beginning  15\n",
       "3  31110  118.7060   8.0  43000  2020  01  beginning  16\n",
       "4  31110   84.9636   7.0  38700  2020  01  beginning  15"
      ]
     },
     "execution_count": 42,
     "metadata": {},
     "output_type": "execute_result"
    }
   ],
   "source": [
    "data_new.head()"
   ]
  },
  {
   "cell_type": "code",
   "execution_count": 43,
   "metadata": {
    "id": "E_ZP9AjxW_bk"
   },
   "outputs": [],
   "source": [
    "data_new[['층','연식']] = data_new[[ '층', '연식']].astype(np.int8)\n",
    "data_new[['지역코드', '일']] = data_new[['지역코드', '일']].astype('category')"
   ]
  },
  {
   "cell_type": "code",
   "execution_count": 44,
   "metadata": {
    "colab": {
     "base_uri": "https://localhost:8080/"
    },
    "id": "jou17NY8XNz6",
    "outputId": "38e1a468-d18f-4b17-bfab-3a260cf9a0d9"
   },
   "outputs": [
    {
     "name": "stdout",
     "output_type": "stream",
     "text": [
      "<class 'pandas.core.frame.DataFrame'>\n",
      "Int64Index: 4315702 entries, 0 to 4315702\n",
      "Data columns (total 8 columns):\n",
      " #   Column  Dtype   \n",
      "---  ------  -----   \n",
      " 0   지역코드    category\n",
      " 1   전용면적    float64 \n",
      " 2   층       int8    \n",
      " 3   거래금액    int64   \n",
      " 4   년       category\n",
      " 5   월       category\n",
      " 6   일       category\n",
      " 7   연식      int8    \n",
      "dtypes: category(4), float64(1), int64(1), int8(2)\n",
      "memory usage: 127.6 MB\n"
     ]
    }
   ],
   "source": [
    "data_new.info()"
   ]
  },
  {
   "cell_type": "code",
   "execution_count": 45,
   "metadata": {
    "id": "oBTNFYg4MLPi"
   },
   "outputs": [],
   "source": [
    "data_new[['지역코드']] = data_new[['지역코드']].astype(int)"
   ]
  },
  {
   "cell_type": "code",
   "execution_count": 46,
   "metadata": {
    "colab": {
     "base_uri": "https://localhost:8080/"
    },
    "id": "XTK8R81tLqSb",
    "outputId": "2446e679-f262-4dd8-f76b-5b24fe6b8c43"
   },
   "outputs": [
    {
     "data": {
      "text/plain": [
       "array([11110, 11140, 11170, 11200, 11215, 11230, 11260, 11290, 11305,\n",
       "       11320, 11350, 11380, 11410, 11440, 11470, 11500, 11530, 11545,\n",
       "       11560, 11590, 11620, 11650, 11680, 11710, 11740])"
      ]
     },
     "execution_count": 46,
     "metadata": {},
     "output_type": "execute_result"
    }
   ],
   "source": [
    "# 서울특별시만\n",
    "data_new[data_new['지역코드']<20000]['지역코드'].unique()"
   ]
  },
  {
   "cell_type": "code",
   "execution_count": 47,
   "metadata": {
    "id": "B3pQ_mNNM1ni"
   },
   "outputs": [],
   "source": [
    "data_new = data_new[data_new['지역코드']<20000]"
   ]
  },
  {
   "cell_type": "code",
   "execution_count": 48,
   "metadata": {
    "id": "woqCfvPzOSHa"
   },
   "outputs": [],
   "source": [
    "data_new[['지역코드']] = data_new[['지역코드']].astype('category')"
   ]
  },
  {
   "cell_type": "code",
   "execution_count": 49,
   "metadata": {
    "colab": {
     "base_uri": "https://localhost:8080/"
    },
    "id": "gv6ZNWxKadPW",
    "outputId": "a8797f34-3741-457c-c098-f2e160395b94"
   },
   "outputs": [
    {
     "data": {
      "text/plain": [
       "(64357, 8)"
      ]
     },
     "execution_count": 49,
     "metadata": {},
     "output_type": "execute_result"
    }
   ],
   "source": [
    "data_new[['년']] = data_new[['년']].astype('int64')\n",
    "data_new2 = data_new[data_new['년']==2020]\n",
    "data_new2.shape"
   ]
  },
  {
   "cell_type": "code",
   "execution_count": 50,
   "metadata": {
    "colab": {
     "base_uri": "https://localhost:8080/",
     "height": 206
    },
    "id": "3wJdni2iGmue",
    "outputId": "55eb5a6a-dbc1-4c8e-8a45-b15b46b74552"
   },
   "outputs": [
    {
     "data": {
      "text/html": [
       "<div>\n",
       "<style scoped>\n",
       "    .dataframe tbody tr th:only-of-type {\n",
       "        vertical-align: middle;\n",
       "    }\n",
       "\n",
       "    .dataframe tbody tr th {\n",
       "        vertical-align: top;\n",
       "    }\n",
       "\n",
       "    .dataframe thead th {\n",
       "        text-align: right;\n",
       "    }\n",
       "</style>\n",
       "<table border=\"1\" class=\"dataframe\">\n",
       "  <thead>\n",
       "    <tr style=\"text-align: right;\">\n",
       "      <th></th>\n",
       "      <th>지역코드</th>\n",
       "      <th>전용면적</th>\n",
       "      <th>층</th>\n",
       "      <th>거래금액</th>\n",
       "      <th>년</th>\n",
       "      <th>월</th>\n",
       "      <th>일</th>\n",
       "      <th>연식</th>\n",
       "    </tr>\n",
       "  </thead>\n",
       "  <tbody>\n",
       "    <tr>\n",
       "      <th>2144764</th>\n",
       "      <td>11110</td>\n",
       "      <td>73.39</td>\n",
       "      <td>5</td>\n",
       "      <td>57000</td>\n",
       "      <td>2020</td>\n",
       "      <td>01</td>\n",
       "      <td>beginning</td>\n",
       "      <td>3</td>\n",
       "    </tr>\n",
       "    <tr>\n",
       "      <th>2144765</th>\n",
       "      <td>11110</td>\n",
       "      <td>109.91</td>\n",
       "      <td>11</td>\n",
       "      <td>88000</td>\n",
       "      <td>2020</td>\n",
       "      <td>01</td>\n",
       "      <td>beginning</td>\n",
       "      <td>28</td>\n",
       "    </tr>\n",
       "    <tr>\n",
       "      <th>2144766</th>\n",
       "      <td>11110</td>\n",
       "      <td>194.43</td>\n",
       "      <td>4</td>\n",
       "      <td>130000</td>\n",
       "      <td>2020</td>\n",
       "      <td>01</td>\n",
       "      <td>beginning</td>\n",
       "      <td>18</td>\n",
       "    </tr>\n",
       "    <tr>\n",
       "      <th>2144767</th>\n",
       "      <td>11110</td>\n",
       "      <td>148.09</td>\n",
       "      <td>8</td>\n",
       "      <td>149000</td>\n",
       "      <td>2020</td>\n",
       "      <td>01</td>\n",
       "      <td>middle</td>\n",
       "      <td>19</td>\n",
       "    </tr>\n",
       "    <tr>\n",
       "      <th>2144768</th>\n",
       "      <td>11110</td>\n",
       "      <td>84.90</td>\n",
       "      <td>5</td>\n",
       "      <td>89800</td>\n",
       "      <td>2020</td>\n",
       "      <td>01</td>\n",
       "      <td>middle</td>\n",
       "      <td>27</td>\n",
       "    </tr>\n",
       "  </tbody>\n",
       "</table>\n",
       "</div>"
      ],
      "text/plain": [
       "          지역코드    전용면적   층    거래금액     년   월          일  연식\n",
       "2144764  11110   73.39   5   57000  2020  01  beginning   3\n",
       "2144765  11110  109.91  11   88000  2020  01  beginning  28\n",
       "2144766  11110  194.43   4  130000  2020  01  beginning  18\n",
       "2144767  11110  148.09   8  149000  2020  01     middle  19\n",
       "2144768  11110   84.90   5   89800  2020  01     middle  27"
      ]
     },
     "execution_count": 50,
     "metadata": {},
     "output_type": "execute_result"
    }
   ],
   "source": [
    "data_new2.head()"
   ]
  },
  {
   "cell_type": "code",
   "execution_count": 51,
   "metadata": {
    "colab": {
     "base_uri": "https://localhost:8080/",
     "height": 206
    },
    "id": "qpyWXSPcGXPR",
    "outputId": "27b2ec07-6777-4ba9-f094-5a0ba83a9764"
   },
   "outputs": [
    {
     "data": {
      "text/html": [
       "<div>\n",
       "<style scoped>\n",
       "    .dataframe tbody tr th:only-of-type {\n",
       "        vertical-align: middle;\n",
       "    }\n",
       "\n",
       "    .dataframe tbody tr th {\n",
       "        vertical-align: top;\n",
       "    }\n",
       "\n",
       "    .dataframe thead th {\n",
       "        text-align: right;\n",
       "    }\n",
       "</style>\n",
       "<table border=\"1\" class=\"dataframe\">\n",
       "  <thead>\n",
       "    <tr style=\"text-align: right;\">\n",
       "      <th></th>\n",
       "      <th>region_code</th>\n",
       "      <th>size</th>\n",
       "      <th>level</th>\n",
       "      <th>price</th>\n",
       "      <th>year</th>\n",
       "      <th>month</th>\n",
       "      <th>day</th>\n",
       "      <th>age</th>\n",
       "    </tr>\n",
       "  </thead>\n",
       "  <tbody>\n",
       "    <tr>\n",
       "      <th>2144764</th>\n",
       "      <td>11110</td>\n",
       "      <td>73.39</td>\n",
       "      <td>5</td>\n",
       "      <td>57000</td>\n",
       "      <td>2020</td>\n",
       "      <td>01</td>\n",
       "      <td>beginning</td>\n",
       "      <td>3</td>\n",
       "    </tr>\n",
       "    <tr>\n",
       "      <th>2144765</th>\n",
       "      <td>11110</td>\n",
       "      <td>109.91</td>\n",
       "      <td>11</td>\n",
       "      <td>88000</td>\n",
       "      <td>2020</td>\n",
       "      <td>01</td>\n",
       "      <td>beginning</td>\n",
       "      <td>28</td>\n",
       "    </tr>\n",
       "    <tr>\n",
       "      <th>2144766</th>\n",
       "      <td>11110</td>\n",
       "      <td>194.43</td>\n",
       "      <td>4</td>\n",
       "      <td>130000</td>\n",
       "      <td>2020</td>\n",
       "      <td>01</td>\n",
       "      <td>beginning</td>\n",
       "      <td>18</td>\n",
       "    </tr>\n",
       "    <tr>\n",
       "      <th>2144767</th>\n",
       "      <td>11110</td>\n",
       "      <td>148.09</td>\n",
       "      <td>8</td>\n",
       "      <td>149000</td>\n",
       "      <td>2020</td>\n",
       "      <td>01</td>\n",
       "      <td>middle</td>\n",
       "      <td>19</td>\n",
       "    </tr>\n",
       "    <tr>\n",
       "      <th>2144768</th>\n",
       "      <td>11110</td>\n",
       "      <td>84.90</td>\n",
       "      <td>5</td>\n",
       "      <td>89800</td>\n",
       "      <td>2020</td>\n",
       "      <td>01</td>\n",
       "      <td>middle</td>\n",
       "      <td>27</td>\n",
       "    </tr>\n",
       "  </tbody>\n",
       "</table>\n",
       "</div>"
      ],
      "text/plain": [
       "        region_code    size  level   price  year month        day  age\n",
       "2144764       11110   73.39      5   57000  2020    01  beginning    3\n",
       "2144765       11110  109.91     11   88000  2020    01  beginning   28\n",
       "2144766       11110  194.43      4  130000  2020    01  beginning   18\n",
       "2144767       11110  148.09      8  149000  2020    01     middle   19\n",
       "2144768       11110   84.90      5   89800  2020    01     middle   27"
      ]
     },
     "execution_count": 51,
     "metadata": {},
     "output_type": "execute_result"
    }
   ],
   "source": [
    "data_new2.columns = ['region_code', 'size', 'level', 'price', 'year', 'month', 'day', 'age']\n",
    "data_new2.head()"
   ]
  },
  {
   "cell_type": "code",
   "execution_count": 52,
   "metadata": {
    "colab": {
     "base_uri": "https://localhost:8080/",
     "height": 279
    },
    "id": "ZBgiZ6w5lYY_",
    "outputId": "1ae5b408-dad2-4e20-99b2-59e59a3ac023"
   },
   "outputs": [
    {
     "data": {
      "image/png": "[encoded data removed]",
      "text/plain": [
       "<Figure size 1080x360 with 2 Axes>"
      ]
     },
     "metadata": {},
     "output_type": "display_data"
    }
   ],
   "source": [
    "# 칼럼별 countplot\n",
    "import seaborn as sns\n",
    "\n",
    "plt.figure(figsize=(15,5))\n",
    "for i, cat in enumerate(data_new2[['month', 'day']].columns):\n",
    "    ax = plt.subplot(1,2,i+1)\n",
    "    sns.set_style('whitegrid')\n",
    "    sns.countplot(data = data_new2[['month', 'day']], x = cat, ax = ax)\n",
    "    plt.tight_layout()\n",
    "plt.show()"
   ]
  },
  {
   "cell_type": "code",
   "execution_count": 54,
   "metadata": {
    "colab": {
     "base_uri": "https://localhost:8080/",
     "height": 726
    },
    "id": "ENF8quCosPZv",
    "outputId": "4761b357-0da9-4c83-b9d8-a1c4e0b0cde2"
   },
   "outputs": [
    {
     "data": {
      "image/png": "[encoded data removed]",
      "text/plain": [
       "<Figure size 720x720 with 20 Axes>"
      ]
     },
     "metadata": {},
     "output_type": "display_data"
    }
   ],
   "source": [
    "g = sns.PairGrid(data_new2[['price', 'size', 'level', 'age']]) \n",
    "g.map_lower(sns.scatterplot)\n",
    "g.map_diag(sns.kdeplot)\n",
    "plt.show()"
   ]
  },
  {
   "cell_type": "code",
   "execution_count": 55,
   "metadata": {
    "id": "k-OgKLkEh8yg"
   },
   "outputs": [],
   "source": [
    "data_final = pd.get_dummies(data_new2)"
   ]
  },
  {
   "cell_type": "code",
   "execution_count": 56,
   "metadata": {
    "colab": {
     "base_uri": "https://localhost:8080/",
     "height": 226
    },
    "id": "oNPotYVXiObg",
    "outputId": "695f035b-9a74-490f-b275-f1e1afdd0393"
   },
   "outputs": [
    {
     "data": {
      "text/html": [
       "<div>\n",
       "<style scoped>\n",
       "    .dataframe tbody tr th:only-of-type {\n",
       "        vertical-align: middle;\n",
       "    }\n",
       "\n",
       "    .dataframe tbody tr th {\n",
       "        vertical-align: top;\n",
       "    }\n",
       "\n",
       "    .dataframe thead th {\n",
       "        text-align: right;\n",
       "    }\n",
       "</style>\n",
       "<table border=\"1\" class=\"dataframe\">\n",
       "  <thead>\n",
       "    <tr style=\"text-align: right;\">\n",
       "      <th></th>\n",
       "      <th>size</th>\n",
       "      <th>level</th>\n",
       "      <th>price</th>\n",
       "      <th>age</th>\n",
       "      <th>region_code_11110</th>\n",
       "      <th>region_code_11140</th>\n",
       "      <th>region_code_11170</th>\n",
       "      <th>region_code_11200</th>\n",
       "      <th>region_code_11215</th>\n",
       "      <th>region_code_11230</th>\n",
       "      <th>region_code_11260</th>\n",
       "      <th>region_code_11290</th>\n",
       "      <th>region_code_11305</th>\n",
       "      <th>region_code_11320</th>\n",
       "      <th>region_code_11350</th>\n",
       "      <th>region_code_11380</th>\n",
       "      <th>region_code_11410</th>\n",
       "      <th>region_code_11440</th>\n",
       "      <th>region_code_11470</th>\n",
       "      <th>region_code_11500</th>\n",
       "      <th>region_code_11530</th>\n",
       "      <th>region_code_11545</th>\n",
       "      <th>region_code_11560</th>\n",
       "      <th>region_code_11590</th>\n",
       "      <th>region_code_11620</th>\n",
       "      <th>region_code_11650</th>\n",
       "      <th>region_code_11680</th>\n",
       "      <th>region_code_11710</th>\n",
       "      <th>region_code_11740</th>\n",
       "      <th>month_01</th>\n",
       "      <th>month_02</th>\n",
       "      <th>month_03</th>\n",
       "      <th>month_04</th>\n",
       "      <th>month_05</th>\n",
       "      <th>month_06</th>\n",
       "      <th>month_07</th>\n",
       "      <th>month_08</th>\n",
       "      <th>month_09</th>\n",
       "      <th>month_10</th>\n",
       "      <th>month_11</th>\n",
       "      <th>month_12</th>\n",
       "      <th>day_beginning</th>\n",
       "      <th>day_end</th>\n",
       "      <th>day_middle</th>\n",
       "    </tr>\n",
       "  </thead>\n",
       "  <tbody>\n",
       "    <tr>\n",
       "      <th>0</th>\n",
       "      <td>73.39</td>\n",
       "      <td>5</td>\n",
       "      <td>57000</td>\n",
       "      <td>3</td>\n",
       "      <td>1</td>\n",
       "      <td>0</td>\n",
       "      <td>0</td>\n",
       "      <td>0</td>\n",
       "      <td>0</td>\n",
       "      <td>0</td>\n",
       "      <td>0</td>\n",
       "      <td>0</td>\n",
       "      <td>0</td>\n",
       "      <td>0</td>\n",
       "      <td>0</td>\n",
       "      <td>0</td>\n",
       "      <td>0</td>\n",
       "      <td>0</td>\n",
       "      <td>0</td>\n",
       "      <td>0</td>\n",
       "      <td>0</td>\n",
       "      <td>0</td>\n",
       "      <td>0</td>\n",
       "      <td>0</td>\n",
       "      <td>0</td>\n",
       "      <td>0</td>\n",
       "      <td>0</td>\n",
       "      <td>0</td>\n",
       "      <td>0</td>\n",
       "      <td>1</td>\n",
       "      <td>0</td>\n",
       "      <td>0</td>\n",
       "      <td>0</td>\n",
       "      <td>0</td>\n",
       "      <td>0</td>\n",
       "      <td>0</td>\n",
       "      <td>0</td>\n",
       "      <td>0</td>\n",
       "      <td>0</td>\n",
       "      <td>0</td>\n",
       "      <td>0</td>\n",
       "      <td>1</td>\n",
       "      <td>0</td>\n",
       "      <td>0</td>\n",
       "    </tr>\n",
       "    <tr>\n",
       "      <th>1</th>\n",
       "      <td>109.91</td>\n",
       "      <td>11</td>\n",
       "      <td>88000</td>\n",
       "      <td>28</td>\n",
       "      <td>1</td>\n",
       "      <td>0</td>\n",
       "      <td>0</td>\n",
       "      <td>0</td>\n",
       "      <td>0</td>\n",
       "      <td>0</td>\n",
       "      <td>0</td>\n",
       "      <td>0</td>\n",
       "      <td>0</td>\n",
       "      <td>0</td>\n",
       "      <td>0</td>\n",
       "      <td>0</td>\n",
       "      <td>0</td>\n",
       "      <td>0</td>\n",
       "      <td>0</td>\n",
       "      <td>0</td>\n",
       "      <td>0</td>\n",
       "      <td>0</td>\n",
       "      <td>0</td>\n",
       "      <td>0</td>\n",
       "      <td>0</td>\n",
       "      <td>0</td>\n",
       "      <td>0</td>\n",
       "      <td>0</td>\n",
       "      <td>0</td>\n",
       "      <td>1</td>\n",
       "      <td>0</td>\n",
       "      <td>0</td>\n",
       "      <td>0</td>\n",
       "      <td>0</td>\n",
       "      <td>0</td>\n",
       "      <td>0</td>\n",
       "      <td>0</td>\n",
       "      <td>0</td>\n",
       "      <td>0</td>\n",
       "      <td>0</td>\n",
       "      <td>0</td>\n",
       "      <td>1</td>\n",
       "      <td>0</td>\n",
       "      <td>0</td>\n",
       "    </tr>\n",
       "    <tr>\n",
       "      <th>2</th>\n",
       "      <td>194.43</td>\n",
       "      <td>4</td>\n",
       "      <td>130000</td>\n",
       "      <td>18</td>\n",
       "      <td>1</td>\n",
       "      <td>0</td>\n",
       "      <td>0</td>\n",
       "      <td>0</td>\n",
       "      <td>0</td>\n",
       "      <td>0</td>\n",
       "      <td>0</td>\n",
       "      <td>0</td>\n",
       "      <td>0</td>\n",
       "      <td>0</td>\n",
       "      <td>0</td>\n",
       "      <td>0</td>\n",
       "      <td>0</td>\n",
       "      <td>0</td>\n",
       "      <td>0</td>\n",
       "      <td>0</td>\n",
       "      <td>0</td>\n",
       "      <td>0</td>\n",
       "      <td>0</td>\n",
       "      <td>0</td>\n",
       "      <td>0</td>\n",
       "      <td>0</td>\n",
       "      <td>0</td>\n",
       "      <td>0</td>\n",
       "      <td>0</td>\n",
       "      <td>1</td>\n",
       "      <td>0</td>\n",
       "      <td>0</td>\n",
       "      <td>0</td>\n",
       "      <td>0</td>\n",
       "      <td>0</td>\n",
       "      <td>0</td>\n",
       "      <td>0</td>\n",
       "      <td>0</td>\n",
       "      <td>0</td>\n",
       "      <td>0</td>\n",
       "      <td>0</td>\n",
       "      <td>1</td>\n",
       "      <td>0</td>\n",
       "      <td>0</td>\n",
       "    </tr>\n",
       "    <tr>\n",
       "      <th>3</th>\n",
       "      <td>148.09</td>\n",
       "      <td>8</td>\n",
       "      <td>149000</td>\n",
       "      <td>19</td>\n",
       "      <td>1</td>\n",
       "      <td>0</td>\n",
       "      <td>0</td>\n",
       "      <td>0</td>\n",
       "      <td>0</td>\n",
       "      <td>0</td>\n",
       "      <td>0</td>\n",
       "      <td>0</td>\n",
       "      <td>0</td>\n",
       "      <td>0</td>\n",
       "      <td>0</td>\n",
       "      <td>0</td>\n",
       "      <td>0</td>\n",
       "      <td>0</td>\n",
       "      <td>0</td>\n",
       "      <td>0</td>\n",
       "      <td>0</td>\n",
       "      <td>0</td>\n",
       "      <td>0</td>\n",
       "      <td>0</td>\n",
       "      <td>0</td>\n",
       "      <td>0</td>\n",
       "      <td>0</td>\n",
       "      <td>0</td>\n",
       "      <td>0</td>\n",
       "      <td>1</td>\n",
       "      <td>0</td>\n",
       "      <td>0</td>\n",
       "      <td>0</td>\n",
       "      <td>0</td>\n",
       "      <td>0</td>\n",
       "      <td>0</td>\n",
       "      <td>0</td>\n",
       "      <td>0</td>\n",
       "      <td>0</td>\n",
       "      <td>0</td>\n",
       "      <td>0</td>\n",
       "      <td>0</td>\n",
       "      <td>0</td>\n",
       "      <td>1</td>\n",
       "    </tr>\n",
       "    <tr>\n",
       "      <th>4</th>\n",
       "      <td>84.90</td>\n",
       "      <td>5</td>\n",
       "      <td>89800</td>\n",
       "      <td>27</td>\n",
       "      <td>1</td>\n",
       "      <td>0</td>\n",
       "      <td>0</td>\n",
       "      <td>0</td>\n",
       "      <td>0</td>\n",
       "      <td>0</td>\n",
       "      <td>0</td>\n",
       "      <td>0</td>\n",
       "      <td>0</td>\n",
       "      <td>0</td>\n",
       "      <td>0</td>\n",
       "      <td>0</td>\n",
       "      <td>0</td>\n",
       "      <td>0</td>\n",
       "      <td>0</td>\n",
       "      <td>0</td>\n",
       "      <td>0</td>\n",
       "      <td>0</td>\n",
       "      <td>0</td>\n",
       "      <td>0</td>\n",
       "      <td>0</td>\n",
       "      <td>0</td>\n",
       "      <td>0</td>\n",
       "      <td>0</td>\n",
       "      <td>0</td>\n",
       "      <td>1</td>\n",
       "      <td>0</td>\n",
       "      <td>0</td>\n",
       "      <td>0</td>\n",
       "      <td>0</td>\n",
       "      <td>0</td>\n",
       "      <td>0</td>\n",
       "      <td>0</td>\n",
       "      <td>0</td>\n",
       "      <td>0</td>\n",
       "      <td>0</td>\n",
       "      <td>0</td>\n",
       "      <td>0</td>\n",
       "      <td>0</td>\n",
       "      <td>1</td>\n",
       "    </tr>\n",
       "  </tbody>\n",
       "</table>\n",
       "</div>"
      ],
      "text/plain": [
       "     size  level   price  age  ...  month_12  day_beginning  day_end  day_middle\n",
       "0   73.39      5   57000    3  ...         0              1        0           0\n",
       "1  109.91     11   88000   28  ...         0              1        0           0\n",
       "2  194.43      4  130000   18  ...         0              1        0           0\n",
       "3  148.09      8  149000   19  ...         0              0        0           1\n",
       "4   84.90      5   89800   27  ...         0              0        0           1\n",
       "\n",
       "[5 rows x 44 columns]"
      ]
     },
     "execution_count": 56,
     "metadata": {},
     "output_type": "execute_result"
    }
   ],
   "source": [
    "data_final = data_final.drop(columns=['year'], axis=1)\n",
    "\n",
    "data_final = data_final.reset_index()\n",
    "data_final = data_final.drop(columns='index', axis=1)\n",
    "data_final.head()"
   ]
  },
  {
   "cell_type": "code",
   "execution_count": 57,
   "metadata": {
    "colab": {
     "base_uri": "https://localhost:8080/"
    },
    "id": "iTk6FBs6iDIf",
    "outputId": "7bdb5f94-c477-44f6-9da1-e411a9c37ead"
   },
   "outputs": [
    {
     "data": {
      "text/plain": [
       "(64357, 44)"
      ]
     },
     "execution_count": 57,
     "metadata": {},
     "output_type": "execute_result"
    }
   ],
   "source": [
    "data_final.shape"
   ]
  },
  {
   "cell_type": "markdown",
   "metadata": {
    "id": "uHLdsc4YiXPt"
   },
   "source": [
    "### train/test split"
   ]
  },
  {
   "cell_type": "code",
   "execution_count": 58,
   "metadata": {
    "id": "Tc0JrlI058Bp"
   },
   "outputs": [],
   "source": [
    "y = data_final['price']\n",
    "X = data_final.drop('price',axis=1, inplace=False)"
   ]
  },
  {
   "cell_type": "code",
   "execution_count": 59,
   "metadata": {
    "colab": {
     "base_uri": "https://localhost:8080/"
    },
    "id": "MnTDpQ0SzVXp",
    "outputId": "1fcc987d-e4d4-4763-ba59-7257cff2e8f7"
   },
   "outputs": [
    {
     "data": {
      "text/plain": [
       "(64357, 43)"
      ]
     },
     "execution_count": 59,
     "metadata": {},
     "output_type": "execute_result"
    }
   ],
   "source": [
    "X.shape"
   ]
  },
  {
   "cell_type": "markdown",
   "metadata": {
    "id": "RO3CJ7ZqjFIz"
   },
   "source": [
    "#### 반응변수 분포 확인"
   ]
  },
  {
   "cell_type": "code",
   "execution_count": 60,
   "metadata": {
    "colab": {
     "base_uri": "https://localhost:8080/",
     "height": 297
    },
    "id": "WhPZU8ADi9zn",
    "outputId": "86cf8ba9-e10d-430e-e1dd-dc6779ffe221"
   },
   "outputs": [
    {
     "data": {
      "text/plain": [
       "<matplotlib.axes._subplots.AxesSubplot at 0x7fdc22cffd90>"
      ]
     },
     "execution_count": 60,
     "metadata": {},
     "output_type": "execute_result"
    },
    {
     "data": {
      "image/png": "[encoded data removed]",
      "text/plain": [
       "<Figure size 432x288 with 1 Axes>"
      ]
     },
     "metadata": {},
     "output_type": "display_data"
    }
   ],
   "source": [
    "import seaborn as sns\n",
    "sns.histplot(y)   # y의 분포 확인"
   ]
  },
  {
   "cell_type": "code",
   "execution_count": 61,
   "metadata": {
    "id": "2PPMWfDJpSlq"
   },
   "outputs": [],
   "source": [
    "log_y = np.log1p(y)"
   ]
  },
  {
   "cell_type": "code",
   "execution_count": 62,
   "metadata": {
    "colab": {
     "base_uri": "https://localhost:8080/",
     "height": 297
    },
    "id": "HnFCPlcHpY_v",
    "outputId": "92bbffc2-fddd-43fb-cf49-bfe1b5b5dbb4"
   },
   "outputs": [
    {
     "data": {
      "text/plain": [
       "<matplotlib.axes._subplots.AxesSubplot at 0x7fdc22d48190>"
      ]
     },
     "execution_count": 62,
     "metadata": {},
     "output_type": "execute_result"
    },
    {
     "data": {
      "image/png": "[encoded data removed]",
      "text/plain": [
       "<Figure size 432x288 with 1 Axes>"
      ]
     },
     "metadata": {},
     "output_type": "display_data"
    }
   ],
   "source": [
    "sns.histplot(log_y)   # log y의 분포 확인"
   ]
  },
  {
   "cell_type": "markdown",
   "metadata": {
    "id": "nifbIIsqi930"
   },
   "source": [
    "#### 설명변수 스케일링"
   ]
  },
  {
   "cell_type": "code",
   "execution_count": 63,
   "metadata": {
    "id": "4cLceHVlilHy"
   },
   "outputs": [],
   "source": [
    "from sklearn.preprocessing import StandardScaler\n",
    "\n",
    "scaler = StandardScaler()\n",
    "\n",
    "X_scaled = scaler.fit_transform(X.iloc[:,:4])"
   ]
  },
  {
   "cell_type": "code",
   "execution_count": 64,
   "metadata": {
    "id": "zKaxkvnwkQzn"
   },
   "outputs": [],
   "source": [
    "X_scaled_num = pd.DataFrame(X_scaled)"
   ]
  },
  {
   "cell_type": "code",
   "execution_count": 65,
   "metadata": {
    "id": "ydg0VXEZkd70"
   },
   "outputs": [],
   "source": [
    "X['size'] = X_scaled_num.iloc[:,0]\n",
    "X['level'] = X_scaled_num.iloc[:,1]\n",
    "X['age'] = X_scaled_num.iloc[:,2]"
   ]
  },
  {
   "cell_type": "code",
   "execution_count": 67,
   "metadata": {
    "colab": {
     "base_uri": "https://localhost:8080/",
     "height": 226
    },
    "id": "ayDd0C7zJ8zZ",
    "outputId": "87245d44-285d-4def-da08-4377316539b4"
   },
   "outputs": [
    {
     "data": {
      "text/html": [
       "<div>\n",
       "<style scoped>\n",
       "    .dataframe tbody tr th:only-of-type {\n",
       "        vertical-align: middle;\n",
       "    }\n",
       "\n",
       "    .dataframe tbody tr th {\n",
       "        vertical-align: top;\n",
       "    }\n",
       "\n",
       "    .dataframe thead th {\n",
       "        text-align: right;\n",
       "    }\n",
       "</style>\n",
       "<table border=\"1\" class=\"dataframe\">\n",
       "  <thead>\n",
       "    <tr style=\"text-align: right;\">\n",
       "      <th></th>\n",
       "      <th>size</th>\n",
       "      <th>level</th>\n",
       "      <th>age</th>\n",
       "      <th>region_code_11110</th>\n",
       "      <th>region_code_11140</th>\n",
       "      <th>region_code_11170</th>\n",
       "      <th>region_code_11200</th>\n",
       "      <th>region_code_11215</th>\n",
       "      <th>region_code_11230</th>\n",
       "      <th>region_code_11260</th>\n",
       "      <th>region_code_11290</th>\n",
       "      <th>region_code_11305</th>\n",
       "      <th>region_code_11320</th>\n",
       "      <th>region_code_11350</th>\n",
       "      <th>region_code_11380</th>\n",
       "      <th>region_code_11410</th>\n",
       "      <th>region_code_11440</th>\n",
       "      <th>region_code_11470</th>\n",
       "      <th>region_code_11500</th>\n",
       "      <th>region_code_11530</th>\n",
       "      <th>region_code_11545</th>\n",
       "      <th>region_code_11560</th>\n",
       "      <th>region_code_11590</th>\n",
       "      <th>region_code_11620</th>\n",
       "      <th>region_code_11650</th>\n",
       "      <th>region_code_11680</th>\n",
       "      <th>region_code_11710</th>\n",
       "      <th>region_code_11740</th>\n",
       "      <th>month_01</th>\n",
       "      <th>month_02</th>\n",
       "      <th>month_03</th>\n",
       "      <th>month_04</th>\n",
       "      <th>month_05</th>\n",
       "      <th>month_06</th>\n",
       "      <th>month_07</th>\n",
       "      <th>month_08</th>\n",
       "      <th>month_09</th>\n",
       "      <th>month_10</th>\n",
       "      <th>month_11</th>\n",
       "      <th>month_12</th>\n",
       "      <th>day_beginning</th>\n",
       "      <th>day_end</th>\n",
       "      <th>day_middle</th>\n",
       "    </tr>\n",
       "  </thead>\n",
       "  <tbody>\n",
       "    <tr>\n",
       "      <th>0</th>\n",
       "      <td>-0.096659</td>\n",
       "      <td>-0.665309</td>\n",
       "      <td>-1.979605</td>\n",
       "      <td>1</td>\n",
       "      <td>0</td>\n",
       "      <td>0</td>\n",
       "      <td>0</td>\n",
       "      <td>0</td>\n",
       "      <td>0</td>\n",
       "      <td>0</td>\n",
       "      <td>0</td>\n",
       "      <td>0</td>\n",
       "      <td>0</td>\n",
       "      <td>0</td>\n",
       "      <td>0</td>\n",
       "      <td>0</td>\n",
       "      <td>0</td>\n",
       "      <td>0</td>\n",
       "      <td>0</td>\n",
       "      <td>0</td>\n",
       "      <td>0</td>\n",
       "      <td>0</td>\n",
       "      <td>0</td>\n",
       "      <td>0</td>\n",
       "      <td>0</td>\n",
       "      <td>0</td>\n",
       "      <td>0</td>\n",
       "      <td>0</td>\n",
       "      <td>1</td>\n",
       "      <td>0</td>\n",
       "      <td>0</td>\n",
       "      <td>0</td>\n",
       "      <td>0</td>\n",
       "      <td>0</td>\n",
       "      <td>0</td>\n",
       "      <td>0</td>\n",
       "      <td>0</td>\n",
       "      <td>0</td>\n",
       "      <td>0</td>\n",
       "      <td>0</td>\n",
       "      <td>1</td>\n",
       "      <td>0</td>\n",
       "      <td>0</td>\n",
       "    </tr>\n",
       "    <tr>\n",
       "      <th>1</th>\n",
       "      <td>1.166636</td>\n",
       "      <td>0.333687</td>\n",
       "      <td>0.678552</td>\n",
       "      <td>1</td>\n",
       "      <td>0</td>\n",
       "      <td>0</td>\n",
       "      <td>0</td>\n",
       "      <td>0</td>\n",
       "      <td>0</td>\n",
       "      <td>0</td>\n",
       "      <td>0</td>\n",
       "      <td>0</td>\n",
       "      <td>0</td>\n",
       "      <td>0</td>\n",
       "      <td>0</td>\n",
       "      <td>0</td>\n",
       "      <td>0</td>\n",
       "      <td>0</td>\n",
       "      <td>0</td>\n",
       "      <td>0</td>\n",
       "      <td>0</td>\n",
       "      <td>0</td>\n",
       "      <td>0</td>\n",
       "      <td>0</td>\n",
       "      <td>0</td>\n",
       "      <td>0</td>\n",
       "      <td>0</td>\n",
       "      <td>0</td>\n",
       "      <td>1</td>\n",
       "      <td>0</td>\n",
       "      <td>0</td>\n",
       "      <td>0</td>\n",
       "      <td>0</td>\n",
       "      <td>0</td>\n",
       "      <td>0</td>\n",
       "      <td>0</td>\n",
       "      <td>0</td>\n",
       "      <td>0</td>\n",
       "      <td>0</td>\n",
       "      <td>0</td>\n",
       "      <td>1</td>\n",
       "      <td>0</td>\n",
       "      <td>0</td>\n",
       "    </tr>\n",
       "    <tr>\n",
       "      <th>2</th>\n",
       "      <td>4.090340</td>\n",
       "      <td>-0.831809</td>\n",
       "      <td>-0.384711</td>\n",
       "      <td>1</td>\n",
       "      <td>0</td>\n",
       "      <td>0</td>\n",
       "      <td>0</td>\n",
       "      <td>0</td>\n",
       "      <td>0</td>\n",
       "      <td>0</td>\n",
       "      <td>0</td>\n",
       "      <td>0</td>\n",
       "      <td>0</td>\n",
       "      <td>0</td>\n",
       "      <td>0</td>\n",
       "      <td>0</td>\n",
       "      <td>0</td>\n",
       "      <td>0</td>\n",
       "      <td>0</td>\n",
       "      <td>0</td>\n",
       "      <td>0</td>\n",
       "      <td>0</td>\n",
       "      <td>0</td>\n",
       "      <td>0</td>\n",
       "      <td>0</td>\n",
       "      <td>0</td>\n",
       "      <td>0</td>\n",
       "      <td>0</td>\n",
       "      <td>1</td>\n",
       "      <td>0</td>\n",
       "      <td>0</td>\n",
       "      <td>0</td>\n",
       "      <td>0</td>\n",
       "      <td>0</td>\n",
       "      <td>0</td>\n",
       "      <td>0</td>\n",
       "      <td>0</td>\n",
       "      <td>0</td>\n",
       "      <td>0</td>\n",
       "      <td>0</td>\n",
       "      <td>1</td>\n",
       "      <td>0</td>\n",
       "      <td>0</td>\n",
       "    </tr>\n",
       "    <tr>\n",
       "      <th>3</th>\n",
       "      <td>2.487353</td>\n",
       "      <td>-0.165811</td>\n",
       "      <td>-0.278384</td>\n",
       "      <td>1</td>\n",
       "      <td>0</td>\n",
       "      <td>0</td>\n",
       "      <td>0</td>\n",
       "      <td>0</td>\n",
       "      <td>0</td>\n",
       "      <td>0</td>\n",
       "      <td>0</td>\n",
       "      <td>0</td>\n",
       "      <td>0</td>\n",
       "      <td>0</td>\n",
       "      <td>0</td>\n",
       "      <td>0</td>\n",
       "      <td>0</td>\n",
       "      <td>0</td>\n",
       "      <td>0</td>\n",
       "      <td>0</td>\n",
       "      <td>0</td>\n",
       "      <td>0</td>\n",
       "      <td>0</td>\n",
       "      <td>0</td>\n",
       "      <td>0</td>\n",
       "      <td>0</td>\n",
       "      <td>0</td>\n",
       "      <td>0</td>\n",
       "      <td>1</td>\n",
       "      <td>0</td>\n",
       "      <td>0</td>\n",
       "      <td>0</td>\n",
       "      <td>0</td>\n",
       "      <td>0</td>\n",
       "      <td>0</td>\n",
       "      <td>0</td>\n",
       "      <td>0</td>\n",
       "      <td>0</td>\n",
       "      <td>0</td>\n",
       "      <td>0</td>\n",
       "      <td>0</td>\n",
       "      <td>0</td>\n",
       "      <td>1</td>\n",
       "    </tr>\n",
       "    <tr>\n",
       "      <th>4</th>\n",
       "      <td>0.301494</td>\n",
       "      <td>-0.665309</td>\n",
       "      <td>0.572226</td>\n",
       "      <td>1</td>\n",
       "      <td>0</td>\n",
       "      <td>0</td>\n",
       "      <td>0</td>\n",
       "      <td>0</td>\n",
       "      <td>0</td>\n",
       "      <td>0</td>\n",
       "      <td>0</td>\n",
       "      <td>0</td>\n",
       "      <td>0</td>\n",
       "      <td>0</td>\n",
       "      <td>0</td>\n",
       "      <td>0</td>\n",
       "      <td>0</td>\n",
       "      <td>0</td>\n",
       "      <td>0</td>\n",
       "      <td>0</td>\n",
       "      <td>0</td>\n",
       "      <td>0</td>\n",
       "      <td>0</td>\n",
       "      <td>0</td>\n",
       "      <td>0</td>\n",
       "      <td>0</td>\n",
       "      <td>0</td>\n",
       "      <td>0</td>\n",
       "      <td>1</td>\n",
       "      <td>0</td>\n",
       "      <td>0</td>\n",
       "      <td>0</td>\n",
       "      <td>0</td>\n",
       "      <td>0</td>\n",
       "      <td>0</td>\n",
       "      <td>0</td>\n",
       "      <td>0</td>\n",
       "      <td>0</td>\n",
       "      <td>0</td>\n",
       "      <td>0</td>\n",
       "      <td>0</td>\n",
       "      <td>0</td>\n",
       "      <td>1</td>\n",
       "    </tr>\n",
       "  </tbody>\n",
       "</table>\n",
       "</div>"
      ],
      "text/plain": [
       "       size     level       age  ...  day_beginning  day_end  day_middle\n",
       "0 -0.096659 -0.665309 -1.979605  ...              1        0           0\n",
       "1  1.166636  0.333687  0.678552  ...              1        0           0\n",
       "2  4.090340 -0.831809 -0.384711  ...              1        0           0\n",
       "3  2.487353 -0.165811 -0.278384  ...              0        0           1\n",
       "4  0.301494 -0.665309  0.572226  ...              0        0           1\n",
       "\n",
       "[5 rows x 43 columns]"
      ]
     },
     "execution_count": 67,
     "metadata": {},
     "output_type": "execute_result"
    }
   ],
   "source": [
    "X.head()"
   ]
  },
  {
   "cell_type": "markdown",
   "metadata": {
    "id": "zPNKIAFV-4ZX"
   },
   "source": [
    "#### split"
   ]
  },
  {
   "cell_type": "code",
   "execution_count": 66,
   "metadata": {
    "id": "i8JytSsxpQKU"
   },
   "outputs": [],
   "source": [
    "# training set 80%, test set 20%\n",
    "X_train, X_test, y_train, y_test = train_test_split(X, log_y, test_size=0.2, random_state=2021)"
   ]
  },
  {
   "cell_type": "markdown",
   "metadata": {
    "id": "8rlh3y8QjMFs"
   },
   "source": [
    "### 모델링"
   ]
  },
  {
   "cell_type": "markdown",
   "metadata": {
    "id": "oeMc-INijRI7"
   },
   "source": [
    "#### 기본 모델 학습"
   ]
  },
  {
   "cell_type": "code",
   "execution_count": null,
   "metadata": {
    "id": "RGLiu5LYhHtc"
   },
   "outputs": [],
   "source": [
    "rf_reg = RandomForestRegressor(n_estimators = 100, random_state = 2021)\n",
    "et_reg = ExtraTreesRegressor(n_estimators=100, random_state=2021)\n",
    "df_reg = DecisionTreeRegressor(random_state = 2021)\n",
    "svm_lin_reg = LinearSVR( random_state = 2021)\n",
    "svm_ploy2_reg = SVR(kernel='poly', degree=2)\n",
    "svm_ploy3_reg = SVR(kernel='poly', degree=3)\n",
    "lr_reg = LinearRegression()\n",
    "gb_reg = GradientBoostingRegressor(n_estimators = 100, random_state = 2021)\n",
    "ada_reg = AdaBoostRegressor(n_estimators=100, random_state=2021)\n",
    "xgb_reg = XGBRegressor(n_estimators=100, random_state=2021)\n",
    "lgbm_reg = LGBMRegressor(n_estimators=100, random_state=2021)"
   ]
  },
  {
   "cell_type": "code",
   "execution_count": 72,
   "metadata": {
    "id": "D31K0U5Pw0c5"
   },
   "outputs": [],
   "source": [
    "from sklearn.model_selection import KFold\n",
    "from sklearn.model_selection import cross_val_score"
   ]
  },
  {
   "cell_type": "code",
   "execution_count": 75,
   "metadata": {
    "id": "V9wwf_enxk60"
   },
   "outputs": [],
   "source": [
    "# rmse 계산하는 함수\n",
    "def get_rmse(y_test,pred):\n",
    "    mse = mean_squared_error(y_test , pred)\n",
    "    rmse = np.sqrt(mse)\n",
    "    print('RMSE: {0:.3f}'.format(rmse))"
   ]
  },
  {
   "cell_type": "code",
   "execution_count": 76,
   "metadata": {
    "id": "84hjfi7Z145t"
   },
   "outputs": [],
   "source": [
    "def get_model_predict(model, X_train, X_test, y_train, y_test, is_expm1=False):\n",
    "    model.fit(X_train, y_train)\n",
    "    pred = model.predict(X_test)\n",
    "    if is_expm1 :\n",
    "        y_test = np.expm1(y_test)\n",
    "        pred = np.expm1(pred)\n",
    "    print('###',model.__class__.__name__,'###')\n",
    "    get_rmse(y_test, pred)"
   ]
  },
  {
   "cell_type": "code",
   "execution_count": null,
   "metadata": {
    "colab": {
     "base_uri": "https://localhost:8080/"
    },
    "id": "LAGkA-sA1g_e",
    "outputId": "4f9559fc-aa73-4e9c-b8a2-85ad3f6fc1cf"
   },
   "outputs": [
    {
     "name": "stdout",
     "output_type": "stream",
     "text": [
      "### LinearRegression ###\n",
      "RMSE: 36841.998\n",
      "### RandomForestRegressor ###\n",
      "RMSE: 14358.271\n",
      "### ExtraTreesRegressor ###\n",
      "RMSE: 15662.138\n",
      "### DecisionTreeRegressor ###\n",
      "RMSE: 18917.984\n",
      "### LinearSVR ###\n",
      "RMSE: 33892.254\n",
      "### GradientBoostingRegressor ###\n",
      "RMSE: 25369.337\n",
      "### AdaBoostRegressor ###\n",
      "RMSE: 36990.413\n",
      "[05:19:53] WARNING: /workspace/src/objective/regression_obj.cu:152: reg:linear is now deprecated in favor of reg:squarederror.\n",
      "### XGBRegressor ###\n",
      "RMSE: 25472.543\n",
      "### LGBMRegressor ###\n",
      "RMSE: 19714.219\n"
     ]
    }
   ],
   "source": [
    "for model in [lr_reg, rf_reg, et_reg, df_reg, svm_lin_reg, gb_reg, ada_reg, xgb_reg, lgbm_reg]:\n",
    "  get_model_predict(model, X_train, X_test, y_train, y_test, is_expm1=True)"
   ]
  },
  {
   "cell_type": "code",
   "execution_count": null,
   "metadata": {
    "colab": {
     "base_uri": "https://localhost:8080/"
    },
    "id": "zL2kbcPGScv3",
    "outputId": "14674ace-9848-431e-a130-b2e8ab4c539e"
   },
   "outputs": [
    {
     "name": "stdout",
     "output_type": "stream",
     "text": [
      "### SGDRegressor ###\n",
      "RMSE: 35719.254\n",
      "### SVR ###\n",
      "RMSE: 28520.084\n",
      "### SVR ###\n",
      "RMSE: 9906679.175\n"
     ]
    }
   ],
   "source": [
    "from sklearn.linear_model import SGDRegressor\n",
    "\n",
    "sgd_reg = SGDRegressor(random_state=2021)\n",
    "\n",
    "for model in [sgd_reg, svm_ploy2_reg, svm_ploy3_reg]:\n",
    "  get_model_predict(model, X_train, X_test, y_train, y_test, is_expm1=True)"
   ]
  },
  {
   "cell_type": "code",
   "execution_count": null,
   "metadata": {
    "id": "g7X9FxpfS5Kg"
   },
   "outputs": [],
   "source": [
    "from sklearn.linear_model import Ridge\n",
    "from sklearn.linear_model import Lasso\n",
    "from sklearn.linear_model import ElasticNet\n",
    "\n",
    "ridge_reg = Ridge(alpha=10, solver=\"cholesky\", random_state=2021)\n",
    "lasso_reg = Lasso(alpha=0.01, random_state=2021)\n",
    "elastic_net = ElasticNet(alpha=0.01, random_state=2021)"
   ]
  },
  {
   "cell_type": "code",
   "execution_count": null,
   "metadata": {
    "colab": {
     "base_uri": "https://localhost:8080/"
    },
    "id": "QozeM0Zgboy-",
    "outputId": "004acf86-7b82-4047-a4e6-a8c16d3dbb27"
   },
   "outputs": [
    {
     "name": "stdout",
     "output_type": "stream",
     "text": [
      "### Ridge ###\n",
      "RMSE: 36819.863\n",
      "### Lasso ###\n",
      "RMSE: 39788.968\n",
      "### ElasticNet ###\n",
      "RMSE: 37969.825\n"
     ]
    }
   ],
   "source": [
    "for model in [ridge_reg, lasso_reg, elastic_net]:\n",
    "  get_model_predict(model, X_train, X_test, y_train, y_test, is_expm1=True)"
   ]
  },
  {
   "cell_type": "markdown",
   "metadata": {
    "id": "AlxJamyfP6gb"
   },
   "source": [
    "tree 기반 모델 과적합 가능성 존재 -> 하이퍼파라미터 튜닝 필요\n",
    "\n",
    "하이퍼파라미터 튜닝 전 성능이 상대적으로 좋았던 모델들에 대해서 하이퍼파라미터 튜닝을 통해 과적합 방지 및 성능 개선을 시도함"
   ]
  },
  {
   "cell_type": "markdown",
   "metadata": {
    "id": "fJmVqxvOjWyH"
   },
   "source": [
    "#### 하이퍼파라미터 튜닝"
   ]
  },
  {
   "cell_type": "markdown",
   "metadata": {
    "id": "rjvaXoAz0kHS"
   },
   "source": [
    "##### RandomForestRegressor"
   ]
  },
  {
   "cell_type": "code",
   "execution_count": null,
   "metadata": {
    "colab": {
     "base_uri": "https://localhost:8080/"
    },
    "id": "K2fNl8hfxk3Q",
    "outputId": "64091c0b-4fe6-49c2-e1f8-c288a1135999"
   },
   "outputs": [
    {
     "data": {
      "text/plain": [
       "GridSearchCV(cv=5, estimator=RandomForestRegressor(random_state=2021),\n",
       "             param_grid=[{'max_depth': [4, 5, 6, 7],\n",
       "                          'max_leaf_nodes': [8, 9, 10],\n",
       "                          'min_samples_split': [3, 4, 5],\n",
       "                          'n_estimators': [10, 100, 200]}],\n",
       "             scoring='neg_mean_squared_error')"
      ]
     },
     "execution_count": 51,
     "metadata": {},
     "output_type": "execute_result"
    }
   ],
   "source": [
    "from sklearn.model_selection import GridSearchCV\n",
    "rf_clf_0 =  RandomForestRegressor(random_state = 2021)\n",
    "\n",
    "param_grid = [\n",
    "    {'max_depth':[4, 5, 6, 7], \n",
    "    'min_samples_split':[3, 4, 5],\n",
    "    'max_leaf_nodes':[8, 9, 10],\n",
    "    'n_estimators': [10, 100, 200]}\n",
    "]\n",
    "\n",
    "result = GridSearchCV(rf_clf_0, param_grid = param_grid, scoring = 'neg_mean_squared_error', cv = 5)\n",
    "result.fit(X_train, y_train)"
   ]
  },
  {
   "cell_type": "code",
   "execution_count": null,
   "metadata": {
    "colab": {
     "base_uri": "https://localhost:8080/"
    },
    "id": "nica_5KAzKBn",
    "outputId": "414cb49b-a38f-4257-acdd-3b1825d89591"
   },
   "outputs": [
    {
     "data": {
      "text/plain": [
       "{'max_depth': 7,\n",
       " 'max_leaf_nodes': 10,\n",
       " 'min_samples_split': 3,\n",
       " 'n_estimators': 100}"
      ]
     },
     "execution_count": 52,
     "metadata": {},
     "output_type": "execute_result"
    }
   ],
   "source": [
    "result.best_params_"
   ]
  },
  {
   "cell_type": "code",
   "execution_count": null,
   "metadata": {
    "colab": {
     "base_uri": "https://localhost:8080/"
    },
    "id": "JdKKDlpRzUwF",
    "outputId": "d84f763b-81c5-4c41-d7a4-fb858dcd0579"
   },
   "outputs": [
    {
     "name": "stdout",
     "output_type": "stream",
     "text": [
      "### RandomForestRegressor ###\n",
      "RMSE: 38829.296\n"
     ]
    }
   ],
   "source": [
    "from sklearn.model_selection import KFold\n",
    "from sklearn.model_selection import cross_val_score\n",
    "rf_clf_2 =  RandomForestRegressor(max_depth = 7 ,max_leaf_nodes = 10, min_samples_split = 3, \n",
    "                                  n_estimators=100, random_state = 2021)\n",
    "\n",
    "get_model_predict(rf_clf_2, X_train, X_test, y_train, y_test, is_expm1=True)"
   ]
  },
  {
   "cell_type": "markdown",
   "metadata": {
    "id": "XQtleWJI6ddk"
   },
   "source": [
    "파라미터 조정을 했더니 rmse가 매우 커짐. 이전 기본 모델의 과적합되었다는 것을 확인할 수 있음."
   ]
  },
  {
   "cell_type": "markdown",
   "metadata": {
    "id": "sb-arkWXjfGA"
   },
   "source": [
    "##### GradientBoostingRegressor"
   ]
  },
  {
   "cell_type": "code",
   "execution_count": null,
   "metadata": {
    "colab": {
     "base_uri": "https://localhost:8080/"
    },
    "id": "voPFDT7u6n8L",
    "outputId": "a2d602c8-4ee3-4e11-a564-6c945736acd3"
   },
   "outputs": [
    {
     "data": {
      "text/plain": [
       "GridSearchCV(cv=5, estimator=GradientBoostingRegressor(random_state=2021),\n",
       "             param_grid=[{'learning_rate': [0.01, 0.1], 'max_depth': [5, 6, 7],\n",
       "                          'min_samples_split': [3, 4, 5],\n",
       "                          'n_estimators': [10, 100, 200]}],\n",
       "             scoring='neg_mean_squared_error')"
      ]
     },
     "execution_count": 51,
     "metadata": {},
     "output_type": "execute_result"
    }
   ],
   "source": [
    "from sklearn.model_selection import GridSearchCV\n",
    "gb_reg_0 = GradientBoostingRegressor( random_state = 2021)\n",
    "\n",
    "param_grid = [\n",
    "    {'max_depth':[5, 6, 7], \n",
    "    'min_samples_split':[3, 4, 5],\n",
    "    'learning_rate':[0.01, 0.1],\n",
    "    'n_estimators': [10, 100, 200]}\n",
    "]\n",
    "\n",
    "result1 = GridSearchCV(gb_reg_0, param_grid = param_grid, scoring = 'neg_mean_squared_error', cv = 5)\n",
    "result1.fit(X_train, y_train)"
   ]
  },
  {
   "cell_type": "code",
   "execution_count": null,
   "metadata": {
    "colab": {
     "base_uri": "https://localhost:8080/"
    },
    "id": "D8XzCiKl8qrV",
    "outputId": "82cf4328-a615-4fe3-c4eb-fa53a2a10666"
   },
   "outputs": [
    {
     "data": {
      "text/plain": [
       "{'learning_rate': 0.1,\n",
       " 'max_depth': 7,\n",
       " 'min_samples_split': 5,\n",
       " 'n_estimators': 200}"
      ]
     },
     "execution_count": 52,
     "metadata": {},
     "output_type": "execute_result"
    }
   ],
   "source": [
    "result1.best_params_"
   ]
  },
  {
   "cell_type": "code",
   "execution_count": null,
   "metadata": {
    "colab": {
     "base_uri": "https://localhost:8080/"
    },
    "id": "STyUStewOK8p",
    "outputId": "8dda00a1-b4d8-4dd2-d590-b6da13e01e57"
   },
   "outputs": [
    {
     "name": "stdout",
     "output_type": "stream",
     "text": [
      "### GradientBoostingRegressor ###\n",
      "RMSE: 16374.592\n"
     ]
    }
   ],
   "source": [
    "gb_reg_2 =  GradientBoostingRegressor(max_depth = 7 ,learning_rate = 0.1, min_samples_split = 5, \n",
    "                                  n_estimators=200, random_state = 2021)\n",
    "\n",
    "get_model_predict(gb_reg_2, X_train, X_test, y_train, y_test, is_expm1=True)"
   ]
  },
  {
   "cell_type": "markdown",
   "metadata": {
    "id": "FgCAtcAaOxPu"
   },
   "source": [
    "기본모델: RMSE: 25369.337  -> 튜닝 후: 16374.59로 감소하였다."
   ]
  },
  {
   "cell_type": "markdown",
   "metadata": {
    "id": "9Wac_aC-jjke"
   },
   "source": [
    "##### XGBRegressor"
   ]
  },
  {
   "cell_type": "code",
   "execution_count": null,
   "metadata": {
    "colab": {
     "base_uri": "https://localhost:8080/"
    },
    "id": "CZgyJkp9OXRZ",
    "outputId": "579069ab-a815-4f0c-fbed-173500d6aed7"
   },
   "outputs": [
    {
     "data": {
      "text/plain": [
       "GridSearchCV(cv=5,\n",
       "             estimator=XGBRegressor(objective='reg:squarederror',\n",
       "                                    random_state=2021),\n",
       "             param_grid=[{'alpha': [0.1, 1, 10], 'learning_rate': [0.01, 0.1],\n",
       "                          'max_depth': [5, 6, 7],\n",
       "                          'n_estimators': [10, 100, 200]}],\n",
       "             scoring='neg_mean_squared_error')"
      ]
     },
     "execution_count": 58,
     "metadata": {},
     "output_type": "execute_result"
    }
   ],
   "source": [
    "xgb_reg_0 = XGBRegressor(random_state=2021, objective='reg:squarederror')\n",
    "\n",
    "param_grid = [\n",
    "    {'max_depth':[5, 6, 7], \n",
    "    'alpha':[0.1, 1, 10],\n",
    "    'learning_rate':[0.01, 0.1],\n",
    "    'n_estimators': [10, 100, 200]}\n",
    "]\n",
    "\n",
    "result2 = GridSearchCV(xgb_reg_0, param_grid = param_grid, scoring = 'neg_mean_squared_error', cv = 5)\n",
    "result2.fit(X_train, y_train)"
   ]
  },
  {
   "cell_type": "code",
   "execution_count": null,
   "metadata": {
    "colab": {
     "base_uri": "https://localhost:8080/"
    },
    "id": "spaVqu8sajy_",
    "outputId": "a06b61e4-21cc-4a0d-b310-e5b9bbe978b6"
   },
   "outputs": [
    {
     "data": {
      "text/plain": [
       "{'alpha': 0.1, 'learning_rate': 0.1, 'max_depth': 7, 'n_estimators': 200}"
      ]
     },
     "execution_count": 59,
     "metadata": {},
     "output_type": "execute_result"
    }
   ],
   "source": [
    "result2.best_params_"
   ]
  },
  {
   "cell_type": "code",
   "execution_count": null,
   "metadata": {
    "colab": {
     "base_uri": "https://localhost:8080/"
    },
    "id": "BhCJv3MXaj2w",
    "outputId": "c7947082-abd8-4f6c-d799-fc12f593fe14"
   },
   "outputs": [
    {
     "name": "stdout",
     "output_type": "stream",
     "text": [
      "### XGBRegressor ###\n",
      "RMSE: 16786.485\n"
     ]
    }
   ],
   "source": [
    "xgb_reg_2 =  XGBRegressor(max_depth = 7 ,learning_rate = 0.1, alpha=0.1,\n",
    "                                  n_estimators=200, random_state = 2021, objective='reg:squarederror')\n",
    "\n",
    "get_model_predict(xgb_reg_2, X_train, X_test, y_train, y_test, is_expm1=True)"
   ]
  },
  {
   "cell_type": "markdown",
   "metadata": {
    "id": "5YSrqbv6bX3a"
   },
   "source": [
    "기본모델: RMSE: 25472.543 -> 튜닝 후: RMSE: 16786.485로 감소하였다."
   ]
  },
  {
   "cell_type": "markdown",
   "metadata": {
    "id": "Ee4z_B7ljm3-"
   },
   "source": [
    "##### SVR"
   ]
  },
  {
   "cell_type": "code",
   "execution_count": null,
   "metadata": {
    "colab": {
     "background_save": true
    },
    "id": "TOd9F8XGPsAx",
    "outputId": "7b3df3ec-38d0-48b3-e7b4-4f90c38851c4"
   },
   "outputs": [
    {
     "data": {
      "text/plain": [
       "GridSearchCV(cv=5, estimator=SVR(degree=2, kernel='poly'),\n",
       "             param_grid=[{'C': [0.1], 'gamma': [0.1, 0.01]}],\n",
       "             scoring='neg_mean_squared_error')"
      ]
     },
     "execution_count": null,
     "metadata": {},
     "output_type": "execute_result"
    }
   ],
   "source": [
    "from sklearn.model_selection import GridSearchCV\n",
    "svm_ploy2_reg_0 = SVR(kernel='poly', degree=2)\n",
    "\n",
    "param_grid = [\n",
    "    {'C': [0.1], \n",
    "     'gamma': [0.1,0.01]}\n",
    "]\n",
    "\n",
    "result3 = GridSearchCV(svm_ploy2_reg_0, param_grid = param_grid, scoring = 'neg_mean_squared_error', cv = 5)\n",
    "result3.fit(X_train, y_train)"
   ]
  },
  {
   "cell_type": "code",
   "execution_count": null,
   "metadata": {
    "colab": {
     "base_uri": "https://localhost:8080/"
    },
    "id": "J6rZeX7-GB5T",
    "outputId": "5591e7e2-9324-4010-c37b-d27db956dbae"
   },
   "outputs": [
    {
     "data": {
      "text/plain": [
       "{'C': 0.1, 'gamma': 0.1}"
      ]
     },
     "execution_count": 38,
     "metadata": {},
     "output_type": "execute_result"
    }
   ],
   "source": [
    "result3.best_params_"
   ]
  },
  {
   "cell_type": "code",
   "execution_count": null,
   "metadata": {
    "colab": {
     "base_uri": "https://localhost:8080/"
    },
    "id": "X2GIWFATgXde",
    "outputId": "4e1a26e6-ca1b-496f-8926-a87487f473de"
   },
   "outputs": [
    {
     "name": "stdout",
     "output_type": "stream",
     "text": [
      "### SVR ###\n",
      "RMSE: 28539.451\n"
     ]
    }
   ],
   "source": [
    "svm_ploy2_reg_1 = SVR(kernel='poly', degree=2, C=0.1, gamma=0.1)\n",
    "\n",
    "get_model_predict(svm_ploy2_reg_1, X_train, X_test, y_train, y_test, is_expm1=True)"
   ]
  },
  {
   "cell_type": "code",
   "execution_count": null,
   "metadata": {
    "colab": {
     "base_uri": "https://localhost:8080/"
    },
    "id": "cp88o3AegRW_",
    "outputId": "80d522f9-705c-434e-9683-368dc2caa24c"
   },
   "outputs": [
    {
     "data": {
      "text/plain": [
       "GridSearchCV(cv=5, estimator=SVR(degree=2, kernel='poly'),\n",
       "             param_grid=[{'C': [1], 'gamma': [0.1, 0.01]}],\n",
       "             scoring='neg_mean_squared_error')"
      ]
     },
     "execution_count": 40,
     "metadata": {},
     "output_type": "execute_result"
    }
   ],
   "source": [
    "svm_ploy2_reg_0 = SVR(kernel='poly', degree=2)\n",
    "\n",
    "param_grid = [\n",
    "    {'C': [1], \n",
    "     'gamma': [0.1,0.01]}\n",
    "]\n",
    "\n",
    "result3_2 = GridSearchCV(svm_ploy2_reg_0, param_grid = param_grid, scoring = 'neg_mean_squared_error', cv = 5)\n",
    "result3_2.fit(X_train, y_train)"
   ]
  },
  {
   "cell_type": "code",
   "execution_count": null,
   "metadata": {
    "colab": {
     "base_uri": "https://localhost:8080/"
    },
    "id": "4pJZMXwcjx_G",
    "outputId": "b5cc246e-790b-4e2e-cacf-8397b2988acd"
   },
   "outputs": [
    {
     "data": {
      "text/plain": [
       "{'C': 1, 'gamma': 0.1}"
      ]
     },
     "execution_count": 41,
     "metadata": {},
     "output_type": "execute_result"
    }
   ],
   "source": [
    "result3_2.best_params_"
   ]
  },
  {
   "cell_type": "code",
   "execution_count": null,
   "metadata": {
    "colab": {
     "base_uri": "https://localhost:8080/"
    },
    "id": "8tMjUHlyrvCU",
    "outputId": "382b5d33-3c0c-46f3-bfe2-d64153d678bd"
   },
   "outputs": [
    {
     "name": "stdout",
     "output_type": "stream",
     "text": [
      "### SVR ###\n",
      "RMSE: 28496.724\n"
     ]
    }
   ],
   "source": [
    "svm_ploy2_reg_2 = SVR(kernel='poly', degree=2, C=1, gamma=0.1)\n",
    "\n",
    "get_model_predict(svm_ploy2_reg_2, X_train, X_test, y_train, y_test, is_expm1=True)"
   ]
  },
  {
   "cell_type": "markdown",
   "metadata": {
    "id": "Q-37aZjcSsU1"
   },
   "source": [
    "#### 앙상블"
   ]
  },
  {
   "cell_type": "code",
   "execution_count": 68,
   "metadata": {
    "id": "rlyxauTbS0pB"
   },
   "outputs": [],
   "source": [
    "gb_reg_2 =  GradientBoostingRegressor(max_depth = 7 ,learning_rate = 0.1, min_samples_split = 5, \n",
    "                                  n_estimators=200, random_state = 2021)"
   ]
  },
  {
   "cell_type": "code",
   "execution_count": 69,
   "metadata": {
    "id": "vKHQmCdoS1gb"
   },
   "outputs": [],
   "source": [
    "xgb_reg_2 =  XGBRegressor(max_depth = 7 ,learning_rate = 0.1, alpha=0.1,\n",
    "                                  n_estimators=200, random_state = 2021, objective='reg:squarederror')"
   ]
  },
  {
   "cell_type": "code",
   "execution_count": 88,
   "metadata": {
    "colab": {
     "base_uri": "https://localhost:8080/"
    },
    "id": "FLKkVpVITFG6",
    "outputId": "7ce3bc33-22f6-4c5b-a71d-57d5cba3043f"
   },
   "outputs": [
    {
     "data": {
      "text/plain": [
       "16010.881264509517"
      ]
     },
     "execution_count": 88,
     "metadata": {},
     "output_type": "execute_result"
    }
   ],
   "source": [
    "from sklearn.ensemble import VotingRegressor\n",
    "\n",
    "voting_clf = VotingRegressor(\n",
    " estimators=[('gbr', gb_reg_2), ('xgb', xgb_reg_2)])\n",
    "\n",
    "cv = KFold(n_splits=5, shuffle=True, random_state=1)\n",
    "cv_score = cross_val_score(voting_clf, X, y, cv=cv, scoring='neg_mean_squared_error')\n",
    "\n",
    "print(((-cv_score)**(0.5)).mean())"
   ]
  },
  {
   "cell_type": "markdown",
   "metadata": {
    "id": "yyGxRz5ajrDI"
   },
   "source": [
    "### 최종 모델 선택\n",
    "GradientBoostRegressor와 XGBRegressor가 Voting 앙상블된 모델"
   ]
  }
 ],
 "metadata": {
  "colab": {
   "collapsed_sections": [],
   "name": "[기말프로젝트] 머신러닝.ipynb",
   "provenance": []
  },
  "kernelspec": {
   "display_name": "Python 3",
   "language": "python",
   "name": "python3"
  },
  "language_info": {
   "codemirror_mode": {
    "name": "ipython",
    "version": 3
   },
   "file_extension": ".py",
   "mimetype": "text/x-python",
   "name": "python",
   "nbconvert_exporter": "python",
   "pygments_lexer": "ipython3",
   "version": "3.7.9"
  }
 },
 "nbformat": 4,
 "nbformat_minor": 1
}
